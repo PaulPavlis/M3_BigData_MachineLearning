{
 "cells": [
  {
   "cell_type": "code",
   "execution_count": 1,
   "metadata": {},
   "outputs": [],
   "source": [
    "import pandas as pd\n",
    "import os\n",
    "import datetime\n",
    "import re # regex support"
   ]
  },
  {
   "cell_type": "code",
   "execution_count": 2,
   "metadata": {},
   "outputs": [],
   "source": [
    "data_pathname = os.path.join(os.getcwd(), \"data\")\n",
    "filename_citibike = \"2015-citibike_tripdata_combined.csv\"\n",
    "filename_citibike_sample = \"2015-citibike_tripdata_combined_sample.csv\"\n",
    "filename_weather = \"weather_data_nyc.csv\"\n",
    "\n",
    "use_sample_data = True # Change this flag if you want to use the full data set (~1,7gb). Warning: This will change the runtime significantly"
   ]
  },
  {
   "cell_type": "code",
   "execution_count": 3,
   "metadata": {},
   "outputs": [],
   "source": [
    "df_citibike = pd.DataFrame()\n",
    "if use_sample_data:\n",
    "    df_citibike = pd.read_csv(os.path.join(data_pathname, filename_citibike_sample))\n",
    "else:\n",
    "    df_citibike = pd.read_csv(os.path.join(data_pathname, filename_citibike))\n",
    "\n",
    "df_weather = pd.read_csv(os.path.join(data_pathname, filename_weather))\n"
   ]
  },
  {
   "cell_type": "code",
   "execution_count": 4,
   "metadata": {},
   "outputs": [
    {
     "name": "stdout",
     "output_type": "stream",
     "text": [
      "Citibike DataFrame length: 99380\n",
      "Citibike DataFrame head:    Unnamed: 0  tripduration           starttime            stoptime  \\\n",
      "0     2018212           146  5/18/2015 13:39:47  5/18/2015 13:42:14   \n",
      "1     1043212          1542  4/13/2015 08:07:06  4/13/2015 08:32:48   \n",
      "2     1435683          6033  4/29/2015 17:11:02  4/29/2015 18:51:35   \n",
      "3     8250156          1414  11/3/2015 16:06:02  11/3/2015 16:29:37   \n",
      "4     5393550           757  8/25/2015 17:30:52  8/25/2015 17:43:29   \n",
      "\n",
      "   start station id        start station name  start station latitude  \\\n",
      "0               335  Washington Pl & Broadway               40.729039   \n",
      "1               545           E 23 St & 1 Ave               40.736502   \n",
      "2               466           W 25 St & 6 Ave               40.743954   \n",
      "3               401   Allen St & Rivington St               40.720196   \n",
      "4              2023   E 55 St & Lexington Ave               40.759681   \n",
      "\n",
      "   start station longitude  end station id           end station name  \\\n",
      "0               -73.994046             439             E 4 St & 2 Ave   \n",
      "1               -73.978095             415  Pearl St & Hanover Square   \n",
      "2               -73.991449             466            W 25 St & 6 Ave   \n",
      "3               -73.989978             459           W 20 St & 11 Ave   \n",
      "4               -73.970314             533         Broadway & W 39 St   \n",
      "\n",
      "   end station latitude  end station longitude  bikeid    usertype  \\\n",
      "0             40.726281             -73.989780   15313  Subscriber   \n",
      "1             40.704718             -74.009260   19785  Subscriber   \n",
      "2             40.743954             -73.991449   19157  Subscriber   \n",
      "3             40.746745             -74.007756   18787  Subscriber   \n",
      "4             40.752996             -73.987216   14819  Subscriber   \n",
      "\n",
      "   birth year  gender  \n",
      "0      1973.0       1  \n",
      "1      1957.0       1  \n",
      "2      1963.0       1  \n",
      "3      1973.0       1  \n",
      "4      1968.0       1  \n"
     ]
    }
   ],
   "source": [
    "# TODO: Extend this with further analysis and graphs\n",
    "print(f\"Citibike DataFrame length: {len(df_citibike)}\")\n",
    "print(f\"Citibike DataFrame head: {df_citibike.head()}\")\n",
    "#df_citibike.astype({'starttime': 'datetime', 'stoptime': 'datetime'}).dtypes"
   ]
  },
  {
   "cell_type": "code",
   "execution_count": 5,
   "metadata": {},
   "outputs": [
    {
     "name": "stdout",
     "output_type": "stream",
     "text": [
      "Weather DataFrame length: 24560\n",
      "Show first and last rows of Weather:\n"
     ]
    },
    {
     "data": {
      "text/html": [
       "<div>\n",
       "<style scoped>\n",
       "    .dataframe tbody tr th:only-of-type {\n",
       "        vertical-align: middle;\n",
       "    }\n",
       "\n",
       "    .dataframe tbody tr th {\n",
       "        vertical-align: top;\n",
       "    }\n",
       "\n",
       "    .dataframe thead th {\n",
       "        text-align: right;\n",
       "    }\n",
       "</style>\n",
       "<table border=\"1\" class=\"dataframe\">\n",
       "  <thead>\n",
       "    <tr style=\"text-align: right;\">\n",
       "      <th></th>\n",
       "      <th>Unnamed: 0</th>\n",
       "      <th>Date</th>\n",
       "      <th>Max.TemperatureF</th>\n",
       "      <th>Mean.TemperatureF</th>\n",
       "      <th>Min.TemperatureF</th>\n",
       "      <th>Max.Dew.PointF</th>\n",
       "      <th>MeanDew.PointF</th>\n",
       "      <th>Min.DewpointF</th>\n",
       "      <th>Max.Humidity</th>\n",
       "      <th>Mean.Humidity</th>\n",
       "      <th>...</th>\n",
       "      <th>Min.VisibilityMiles</th>\n",
       "      <th>Max.Wind.SpeedMPH</th>\n",
       "      <th>Mean.Wind.SpeedMPH</th>\n",
       "      <th>Max.Gust.SpeedMPH</th>\n",
       "      <th>PrecipitationIn</th>\n",
       "      <th>CloudCover</th>\n",
       "      <th>Events</th>\n",
       "      <th>WindDirDegrees.br...</th>\n",
       "      <th>city</th>\n",
       "      <th>season</th>\n",
       "    </tr>\n",
       "  </thead>\n",
       "  <tbody>\n",
       "    <tr>\n",
       "      <th>1</th>\n",
       "      <td>2</td>\n",
       "      <td>1948-07-02</td>\n",
       "      <td>82</td>\n",
       "      <td>72.0</td>\n",
       "      <td>63</td>\n",
       "      <td>62</td>\n",
       "      <td>53</td>\n",
       "      <td>49</td>\n",
       "      <td>76</td>\n",
       "      <td>51</td>\n",
       "      <td>...</td>\n",
       "      <td>10.0</td>\n",
       "      <td>16</td>\n",
       "      <td>10</td>\n",
       "      <td>NaN</td>\n",
       "      <td>0.00</td>\n",
       "      <td>0.0</td>\n",
       "      <td>NaN</td>\n",
       "      <td>315&lt;br /&gt;</td>\n",
       "      <td>New York City (USA)</td>\n",
       "      <td>Summer</td>\n",
       "    </tr>\n",
       "    <tr>\n",
       "      <th>24559</th>\n",
       "      <td>24627</td>\n",
       "      <td>2015-12-31</td>\n",
       "      <td>52</td>\n",
       "      <td>48.0</td>\n",
       "      <td>43</td>\n",
       "      <td>46</td>\n",
       "      <td>38</td>\n",
       "      <td>27</td>\n",
       "      <td>93</td>\n",
       "      <td>71</td>\n",
       "      <td>...</td>\n",
       "      <td>5.0</td>\n",
       "      <td>20</td>\n",
       "      <td>12</td>\n",
       "      <td>25.0</td>\n",
       "      <td>0.06</td>\n",
       "      <td>7.0</td>\n",
       "      <td>Rain</td>\n",
       "      <td>317&lt;br /&gt;</td>\n",
       "      <td>New York City (USA)</td>\n",
       "      <td>Winter</td>\n",
       "    </tr>\n",
       "  </tbody>\n",
       "</table>\n",
       "<p>2 rows × 26 columns</p>\n",
       "</div>"
      ],
      "text/plain": [
       "       Unnamed: 0        Date  Max.TemperatureF  Mean.TemperatureF  \\\n",
       "1               2  1948-07-02                82               72.0   \n",
       "24559       24627  2015-12-31                52               48.0   \n",
       "\n",
       "       Min.TemperatureF  Max.Dew.PointF  MeanDew.PointF  Min.DewpointF  \\\n",
       "1                    63              62              53             49   \n",
       "24559                43              46              38             27   \n",
       "\n",
       "       Max.Humidity  Mean.Humidity  ...  Min.VisibilityMiles  \\\n",
       "1                76             51  ...                 10.0   \n",
       "24559            93             71  ...                  5.0   \n",
       "\n",
       "       Max.Wind.SpeedMPH  Mean.Wind.SpeedMPH  Max.Gust.SpeedMPH  \\\n",
       "1                     16                  10                NaN   \n",
       "24559                 20                  12               25.0   \n",
       "\n",
       "       PrecipitationIn  CloudCover  Events  WindDirDegrees.br...  \\\n",
       "1                 0.00         0.0     NaN             315<br />   \n",
       "24559             0.06         7.0    Rain             317<br />   \n",
       "\n",
       "                      city  season  \n",
       "1      New York City (USA)  Summer  \n",
       "24559  New York City (USA)  Winter  \n",
       "\n",
       "[2 rows x 26 columns]"
      ]
     },
     "execution_count": 5,
     "metadata": {},
     "output_type": "execute_result"
    }
   ],
   "source": [
    "print(f\"Weather DataFrame length: {len(df_weather)}\")\n",
    "print(f\"Show first and last rows of Weather:\")\n",
    "df_weather.iloc[[1, -1]]"
   ]
  },
  {
   "cell_type": "code",
   "execution_count": 6,
   "metadata": {},
   "outputs": [
    {
     "name": "stdout",
     "output_type": "stream",
     "text": [
      "\n",
      "Weather DataFrame head:    Unnamed: 0        Date  Max.TemperatureF  Mean.TemperatureF  \\\n",
      "0           1  1948-07-01                84               78.0   \n",
      "1           2  1948-07-02                82               72.0   \n",
      "2           3  1948-07-03                78               71.0   \n",
      "3           4  1948-07-04                84               76.0   \n",
      "4           5  1948-07-05                93               82.0   \n",
      "\n",
      "   Min.TemperatureF  Max.Dew.PointF  MeanDew.PointF  Min.DewpointF  \\\n",
      "0                72              71              65             58   \n",
      "1                63              62              53             49   \n",
      "2                64              66              58             53   \n",
      "3                68              68              63             56   \n",
      "4                70              74              69             65   \n",
      "\n",
      "   Max.Humidity  Mean.Humidity  ...  Min.VisibilityMiles  Max.Wind.SpeedMPH  \\\n",
      "0            93             65  ...                  2.0                 16   \n",
      "1            76             51  ...                 10.0                 16   \n",
      "2            84             62  ...                  5.0                 14   \n",
      "3            90             67  ...                  2.0                 12   \n",
      "4            93             71  ...                  3.0                 18   \n",
      "\n",
      "   Mean.Wind.SpeedMPH  Max.Gust.SpeedMPH  PrecipitationIn  CloudCover  \\\n",
      "0                   8                NaN             0.00         0.0   \n",
      "1                  10                NaN             0.00         0.0   \n",
      "2                   6                NaN             0.00         0.0   \n",
      "3                   5                NaN             0.00         0.0   \n",
      "4                   8                NaN             0.00         0.0   \n",
      "\n",
      "                  Events  WindDirDegrees.br...                 city  season  \n",
      "0                    Fog             264<br />  New York City (USA)  Summer  \n",
      "1                    NaN             315<br />  New York City (USA)  Summer  \n",
      "2                    NaN             203<br />  New York City (USA)  Summer  \n",
      "3                    Fog             198<br />  New York City (USA)  Summer  \n",
      "4  Fog-Rain-Thunderstorm             218<br />  New York City (USA)  Summer  \n",
      "\n",
      "[5 rows x 26 columns]\n"
     ]
    }
   ],
   "source": [
    "print(f\"\\nWeather DataFrame head: {df_weather.head()}\")"
   ]
  },
  {
   "cell_type": "code",
   "execution_count": 7,
   "metadata": {},
   "outputs": [
    {
     "name": "stdout",
     "output_type": "stream",
     "text": [
      "Weather DataFrame data types per column (auto import):\n",
      "Unnamed: 0                     int64\n",
      "Date                          object\n",
      "Max.TemperatureF               int64\n",
      "Mean.TemperatureF            float64\n",
      "Min.TemperatureF               int64\n",
      "Max.Dew.PointF                 int64\n",
      "MeanDew.PointF                 int64\n",
      "Min.DewpointF                  int64\n",
      "Max.Humidity                   int64\n",
      "Mean.Humidity                  int64\n",
      "Min.Humidity                   int64\n",
      "Max.Sea.Level.PressureIn     float64\n",
      "Mean.Sea.Level.PressureIn    float64\n",
      "Min.Sea.Level.PressureIn     float64\n",
      "Max.VisibilityMiles          float64\n",
      "Mean.VisibilityMiles         float64\n",
      "Min.VisibilityMiles          float64\n",
      "Max.Wind.SpeedMPH              int64\n",
      "Mean.Wind.SpeedMPH             int64\n",
      "Max.Gust.SpeedMPH            float64\n",
      "PrecipitationIn               object\n",
      "CloudCover                   float64\n",
      "Events                        object\n",
      "WindDirDegrees.br...          object\n",
      "city                          object\n",
      "season                        object\n",
      "dtype: object\n"
     ]
    }
   ],
   "source": [
    "print(\"Weather DataFrame data types per column (auto import):\")\n",
    "print(f\"{df_weather.dtypes}\")"
   ]
  },
  {
   "cell_type": "code",
   "execution_count": 8,
   "metadata": {},
   "outputs": [
    {
     "name": "stdout",
     "output_type": "stream",
     "text": [
      "Convert column Date from object to datetime\n"
     ]
    }
   ],
   "source": [
    "print(\"Convert column Date from object to datetime\")\n",
    "df_weather['Date'] = pd.to_datetime(df_weather['Date'], format='%Y-%m-%d')"
   ]
  },
  {
   "cell_type": "code",
   "execution_count": 9,
   "metadata": {},
   "outputs": [
    {
     "data": {
      "text/plain": [
       "0       1948-07-01\n",
       "24559   2015-12-31\n",
       "Name: Date, dtype: datetime64[ns]"
      ]
     },
     "execution_count": 9,
     "metadata": {},
     "output_type": "execute_result"
    }
   ],
   "source": [
    "df_weather[\"Date\"].iloc[[0, -1]]"
   ]
  },
  {
   "cell_type": "code",
   "execution_count": 10,
   "metadata": {},
   "outputs": [
    {
     "name": "stdout",
     "output_type": "stream",
     "text": [
      "Convert column PrecipitationIn from object to float\n"
     ]
    }
   ],
   "source": [
    "print(\"Convert column PrecipitationIn from object to float\")\n",
    "df_weather['PrecipitationIn'] = pd.to_numeric(df_weather['PrecipitationIn'], errors='coerce')"
   ]
  },
  {
   "cell_type": "code",
   "execution_count": 11,
   "metadata": {},
   "outputs": [
    {
     "name": "stdout",
     "output_type": "stream",
     "text": [
      "Convert column Events from object to string\n"
     ]
    },
    {
     "data": {
      "text/plain": [
       "0         b'Fog'\n",
       "24559    b'Rain'\n",
       "Name: Events, dtype: bytes208"
      ]
     },
     "execution_count": 11,
     "metadata": {},
     "output_type": "execute_result"
    }
   ],
   "source": [
    "print(\"Convert column Events from object to string\")\n",
    "df_weather['Events'] = df_weather['Events'].astype('|S') \n",
    "df_weather[\"Events\"].iloc[[0, -1]]"
   ]
  },
  {
   "cell_type": "code",
   "execution_count": 12,
   "metadata": {},
   "outputs": [
    {
     "name": "stdout",
     "output_type": "stream",
     "text": [
      "Convert column WindDirDegrees.br... from object to integer and clean the data\n"
     ]
    },
    {
     "data": {
      "text/plain": [
       "0        264\n",
       "24559    317\n",
       "Name: WindDirectionDEG, dtype: int32"
      ]
     },
     "execution_count": 12,
     "metadata": {},
     "output_type": "execute_result"
    }
   ],
   "source": [
    "print(\"Convert column WindDirDegrees.br... from object to integer and clean the data\")\n",
    "\n",
    "df_weather['WindDirectionDEG'] = df_weather['WindDirDegrees.br...'].str.removesuffix(\"<br />\")\n",
    "df_weather['WindDirectionDEG'] = df_weather['WindDirectionDEG'].astype('int')\n",
    "df_weather[\"WindDirectionDEG\"].iloc[[0, -1]]"
   ]
  },
  {
   "cell_type": "code",
   "execution_count": 13,
   "metadata": {},
   "outputs": [
    {
     "name": "stdout",
     "output_type": "stream",
     "text": [
      "Converting Fahrenheit to Celsius\n",
      "Converting Miles to Kilometer\n",
      "Converting inHg to hPa\n",
      "Converting CloudCover from eighths to percent\n",
      "Converting Inch to Millimeter\n"
     ]
    }
   ],
   "source": [
    "print(\"Converting Fahrenheit to Celsius\")\n",
    "def fahrenheit_to_celsius(fahrenheit):\n",
    "    celsius = (fahrenheit - 32) * 5 / 9\n",
    "    return celsius\n",
    "\n",
    "df_weather[\"Max.TemperatureC\"] = fahrenheit_to_celsius(df_weather[\"Max.TemperatureF\"])\n",
    "df_weather[\"Mean.TemperatureC\"] = fahrenheit_to_celsius(df_weather[\"Mean.TemperatureF\"])\n",
    "df_weather[\"Min.TemperatureC\"] = fahrenheit_to_celsius(df_weather[\"Min.TemperatureF\"])\n",
    "df_weather[\"Max.DewpointC\"] = fahrenheit_to_celsius(df_weather[\"Max.Dew.PointF\"])\n",
    "df_weather[\"Mean.DewpointC\"] = fahrenheit_to_celsius(df_weather[\"MeanDew.PointF\"])\n",
    "df_weather[\"Min.DewpointC\"] = fahrenheit_to_celsius(df_weather[\"Min.DewpointF\"])\n",
    "\n",
    "#df_weather.rename(columns={\"Max.TemperatureF\": \"Max.Temperature\", \"Mean.TemperatureF\": \"Mean.Temperature\"})\n",
    "\n",
    "print(\"Converting Miles to Kilometer\")\n",
    "def miles_to_km(miles):\n",
    "    km = miles * 1.609344\n",
    "    return km\n",
    "df_weather[\"Min.VisibilityKM\"] = miles_to_km(df_weather[\"Min.VisibilityMiles\"])\n",
    "df_weather[\"Max.VisibilityKM\"] = miles_to_km(df_weather[\"Max.VisibilityMiles\"])\n",
    "df_weather[\"Mean.VisibilityKM\"] = miles_to_km(df_weather[\"Mean.VisibilityMiles\"])\n",
    "df_weather[\"Max.Wind.SpeedKMH\"] = miles_to_km(df_weather[\"Max.Wind.SpeedMPH\"])\n",
    "df_weather[\"Mean.Wind.SpeedKMH\"] = miles_to_km(df_weather[\"Mean.Wind.SpeedMPH\"])\n",
    "df_weather[\"Max.Gust.SpeedKMH\"] = miles_to_km(df_weather[\"Max.Gust.SpeedMPH\"])\n",
    "\n",
    "print(\"Converting inHg to hPa\")\n",
    "def inhg_to_hpa(inhg):\n",
    "    hpa = inhg * 33.86389\n",
    "    return hpa\n",
    "\n",
    "df_weather[\"Max.Sea.Level.PressureHPA\"] = inhg_to_hpa(df_weather[\"Max.Sea.Level.PressureIn\"])\n",
    "df_weather[\"Mean.Sea.Level.PressureHPA\"] = inhg_to_hpa(df_weather[\"Mean.Sea.Level.PressureIn\"])\n",
    "df_weather[\"Min.Sea.Level.PressureHPA\"] = inhg_to_hpa(df_weather[\"Min.Sea.Level.PressureIn\"])\n",
    "\n",
    "print(\"Converting CloudCover from eighths to percent\")\n",
    "def eighths_to_percent(eighths):\n",
    "    percent = eighths / 8 * 100\n",
    "    return percent\n",
    "\n",
    "df_weather[\"CloudCoverPERCENT\"] = eighths_to_percent(df_weather[\"CloudCover\"])\n",
    "\n",
    "print(\"Converting Inch to Millimeter\")\n",
    "def inch_to_mm(inch):\n",
    "    mm = inch * 25.4\n",
    "    return mm\n",
    "\n",
    "df_weather[\"PrecipitationMM\"] = inch_to_mm(df_weather[\"PrecipitationIn\"])\n",
    "\n",
    "\n"
   ]
  },
  {
   "cell_type": "code",
   "execution_count": 14,
   "metadata": {},
   "outputs": [],
   "source": [
    "df_weather.drop(['Max.TemperatureF', 'Mean.TemperatureF', 'Min.TemperatureF', 'Max.Dew.PointF', 'MeanDew.PointF', 'Min.DewpointF', 'Min.VisibilityMiles', 'Max.VisibilityMiles', 'Mean.VisibilityMiles', 'Max.Wind.SpeedMPH', 'Mean.Wind.SpeedMPH', 'Max.Gust.SpeedMPH', 'Max.Sea.Level.PressureIn', 'Mean.Sea.Level.PressureIn', 'Min.Sea.Level.PressureIn', 'CloudCover', 'WindDirDegrees.br...'], axis=1, inplace=True)"
   ]
  },
  {
   "cell_type": "code",
   "execution_count": 15,
   "metadata": {},
   "outputs": [
    {
     "name": "stdout",
     "output_type": "stream",
     "text": [
      "Checking for categorial values in the columns\n",
      "Column Unnamed: 0 has 24560 distinct values\n",
      "Column Date has 24560 distinct values\n",
      "Column Max.Humidity has 68 distinct values\n",
      "Column Mean.Humidity has 81 distinct values\n",
      "Column Min.Humidity has 91 distinct values\n",
      "Column PrecipitationIn has 364 distinct values\n",
      "Column Events has 17 distinct values\n",
      "Column city has 1 distinct values\n",
      "Column season has 4 distinct values\n",
      "Column WindDirectionDEG has 361 distinct values\n",
      "Column Max.TemperatureC has 95 distinct values\n",
      "Column Mean.TemperatureC has 87 distinct values\n",
      "Column Min.TemperatureC has 82 distinct values\n",
      "Column Max.DewpointC has 90 distinct values\n",
      "Column Mean.DewpointC has 93 distinct values\n",
      "Column Min.DewpointC has 99 distinct values\n",
      "Column Min.VisibilityKM has 13 distinct values\n",
      "Column Max.VisibilityKM has 13 distinct values\n",
      "Column Mean.VisibilityKM has 21 distinct values\n",
      "Column Max.Wind.SpeedKMH has 54 distinct values\n",
      "Column Mean.Wind.SpeedKMH has 38 distinct values\n",
      "Column Max.Gust.SpeedKMH has 83 distinct values\n",
      "Column Max.Sea.Level.PressureHPA has 164 distinct values\n",
      "Column Mean.Sea.Level.PressureHPA has 177 distinct values\n",
      "Column Min.Sea.Level.PressureHPA has 197 distinct values\n",
      "Column CloudCoverPERCENT has 9 distinct values\n",
      "Column PrecipitationMM has 364 distinct values\n"
     ]
    }
   ],
   "source": [
    "print(\"Checking for categorial values in the columns\")\n",
    "for column in df_weather.columns:\n",
    "    print(f\"Column {column} has {df_weather[column].value_counts().count()} distinct values\")"
   ]
  },
  {
   "cell_type": "code",
   "execution_count": 16,
   "metadata": {},
   "outputs": [
    {
     "data": {
      "text/plain": [
       "4"
      ]
     },
     "execution_count": 16,
     "metadata": {},
     "output_type": "execute_result"
    }
   ],
   "source": [
    "df_weather['season'].value_counts().count()"
   ]
  },
  {
   "cell_type": "code",
   "execution_count": 17,
   "metadata": {},
   "outputs": [
    {
     "data": {
      "text/plain": [
       "Summer    6364\n",
       "Spring    6178\n",
       "Autumn    6052\n",
       "Winter    5966\n",
       "Name: season, dtype: int64"
      ]
     },
     "execution_count": 17,
     "metadata": {},
     "output_type": "execute_result"
    }
   ],
   "source": [
    "df_weather['season'].value_counts()"
   ]
  },
  {
   "cell_type": "code",
   "execution_count": 18,
   "metadata": {},
   "outputs": [],
   "source": [
    "df_weather['season'] = df_weather['season'].astype('category')"
   ]
  },
  {
   "cell_type": "code",
   "execution_count": 19,
   "metadata": {},
   "outputs": [
    {
     "data": {
      "text/plain": [
       "17"
      ]
     },
     "execution_count": 19,
     "metadata": {},
     "output_type": "execute_result"
    }
   ],
   "source": [
    "df_weather['Events'].value_counts().count()"
   ]
  },
  {
   "cell_type": "code",
   "execution_count": 20,
   "metadata": {},
   "outputs": [
    {
     "data": {
      "text/plain": [
       "b'nan'                           12839\n",
       "b'Rain'                           3514\n",
       "b'Fog-Rain'                       3276\n",
       "b'Fog'                            1937\n",
       "b'Snow'                            694\n",
       "b'Fog-Rain-Thunderstorm'           668\n",
       "b'Rain-Thunderstorm'               648\n",
       "b'Fog-Rain-Snow'                   378\n",
       "b'Rain-Snow'                       288\n",
       "b'Fog-Snow'                        274\n",
       "b'Thunderstorm'                     19\n",
       "b'Fog-Rain-Snow-Thunderstorm'       11\n",
       "b'Fog-Thunderstorm'                  8\n",
       "b'Rain-Snow-Thunderstorm'            3\n",
       "b'Fog-Snow-Thunderstorm'             1\n",
       "b'Fog-Rain-Hail-Thunderstorm'        1\n",
       "b'Tornado'                           1\n",
       "Name: Events, dtype: int64"
      ]
     },
     "execution_count": 20,
     "metadata": {},
     "output_type": "execute_result"
    }
   ],
   "source": [
    "df_weather['Events'].value_counts()"
   ]
  },
  {
   "cell_type": "code",
   "execution_count": 21,
   "metadata": {},
   "outputs": [
    {
     "data": {
      "text/plain": [
       "1"
      ]
     },
     "execution_count": 21,
     "metadata": {},
     "output_type": "execute_result"
    }
   ],
   "source": [
    "df_weather['city'].value_counts().count()"
   ]
  },
  {
   "cell_type": "code",
   "execution_count": 22,
   "metadata": {},
   "outputs": [
    {
     "data": {
      "text/plain": [
       "New York City (USA)    24560\n",
       "Name: city, dtype: int64"
      ]
     },
     "execution_count": 22,
     "metadata": {},
     "output_type": "execute_result"
    }
   ],
   "source": [
    "df_weather['city'].value_counts()"
   ]
  },
  {
   "cell_type": "code",
   "execution_count": 23,
   "metadata": {},
   "outputs": [],
   "source": [
    "df_weather['city'] = df_weather['city'].astype('category')"
   ]
  },
  {
   "cell_type": "code",
   "execution_count": 24,
   "metadata": {},
   "outputs": [
    {
     "data": {
      "text/plain": [
       "0.0      6738\n",
       "100.0    2200\n",
       "75.0     2195\n",
       "87.5     2157\n",
       "62.5     2132\n",
       "50.0     1987\n",
       "37.5     1755\n",
       "25.0     1498\n",
       "12.5     1117\n",
       "Name: CloudCoverPERCENT, dtype: int64"
      ]
     },
     "execution_count": 24,
     "metadata": {},
     "output_type": "execute_result"
    }
   ],
   "source": [
    "df_weather['CloudCoverPERCENT'].value_counts()"
   ]
  },
  {
   "cell_type": "code",
   "execution_count": 25,
   "metadata": {},
   "outputs": [
    {
     "name": "stdout",
     "output_type": "stream",
     "text": [
      "Weather data types after cleaning and conversion:\n",
      "Unnamed: 0                             int64\n",
      "Date                          datetime64[ns]\n",
      "Max.Humidity                           int64\n",
      "Mean.Humidity                          int64\n",
      "Min.Humidity                           int64\n",
      "PrecipitationIn                      float64\n",
      "Events                                  |S26\n",
      "city                                category\n",
      "season                              category\n",
      "WindDirectionDEG                       int32\n",
      "Max.TemperatureC                     float64\n",
      "Mean.TemperatureC                    float64\n",
      "Min.TemperatureC                     float64\n",
      "Max.DewpointC                        float64\n",
      "Mean.DewpointC                       float64\n",
      "Min.DewpointC                        float64\n",
      "Min.VisibilityKM                     float64\n",
      "Max.VisibilityKM                     float64\n",
      "Mean.VisibilityKM                    float64\n",
      "Max.Wind.SpeedKMH                    float64\n",
      "Mean.Wind.SpeedKMH                   float64\n",
      "Max.Gust.SpeedKMH                    float64\n",
      "Max.Sea.Level.PressureHPA            float64\n",
      "Mean.Sea.Level.PressureHPA           float64\n",
      "Min.Sea.Level.PressureHPA            float64\n",
      "CloudCoverPERCENT                    float64\n",
      "PrecipitationMM                      float64\n",
      "dtype: object\n"
     ]
    }
   ],
   "source": [
    "print(\"Weather data types after cleaning and conversion:\")\n",
    "print(f\"{df_weather.dtypes}\")"
   ]
  },
  {
   "cell_type": "code",
   "execution_count": 26,
   "metadata": {},
   "outputs": [
    {
     "name": "stdout",
     "output_type": "stream",
     "text": [
      "Show first and last rows of Weather - after cleaning and conversion:\n"
     ]
    },
    {
     "data": {
      "text/html": [
       "<div>\n",
       "<style scoped>\n",
       "    .dataframe tbody tr th:only-of-type {\n",
       "        vertical-align: middle;\n",
       "    }\n",
       "\n",
       "    .dataframe tbody tr th {\n",
       "        vertical-align: top;\n",
       "    }\n",
       "\n",
       "    .dataframe thead th {\n",
       "        text-align: right;\n",
       "    }\n",
       "</style>\n",
       "<table border=\"1\" class=\"dataframe\">\n",
       "  <thead>\n",
       "    <tr style=\"text-align: right;\">\n",
       "      <th></th>\n",
       "      <th>Unnamed: 0</th>\n",
       "      <th>Date</th>\n",
       "      <th>Max.Humidity</th>\n",
       "      <th>Mean.Humidity</th>\n",
       "      <th>Min.Humidity</th>\n",
       "      <th>PrecipitationIn</th>\n",
       "      <th>Events</th>\n",
       "      <th>city</th>\n",
       "      <th>season</th>\n",
       "      <th>WindDirectionDEG</th>\n",
       "      <th>...</th>\n",
       "      <th>Max.VisibilityKM</th>\n",
       "      <th>Mean.VisibilityKM</th>\n",
       "      <th>Max.Wind.SpeedKMH</th>\n",
       "      <th>Mean.Wind.SpeedKMH</th>\n",
       "      <th>Max.Gust.SpeedKMH</th>\n",
       "      <th>Max.Sea.Level.PressureHPA</th>\n",
       "      <th>Mean.Sea.Level.PressureHPA</th>\n",
       "      <th>Min.Sea.Level.PressureHPA</th>\n",
       "      <th>CloudCoverPERCENT</th>\n",
       "      <th>PrecipitationMM</th>\n",
       "    </tr>\n",
       "  </thead>\n",
       "  <tbody>\n",
       "    <tr>\n",
       "      <th>0</th>\n",
       "      <td>1</td>\n",
       "      <td>1948-07-01</td>\n",
       "      <td>93</td>\n",
       "      <td>65</td>\n",
       "      <td>46</td>\n",
       "      <td>0.00</td>\n",
       "      <td>b'Fog'</td>\n",
       "      <td>New York City (USA)</td>\n",
       "      <td>Summer</td>\n",
       "      <td>264</td>\n",
       "      <td>...</td>\n",
       "      <td>16.09344</td>\n",
       "      <td>11.265408</td>\n",
       "      <td>25.749504</td>\n",
       "      <td>12.874752</td>\n",
       "      <td>NaN</td>\n",
       "      <td>1018.287172</td>\n",
       "      <td>1016.255339</td>\n",
       "      <td>1015.239422</td>\n",
       "      <td>0.0</td>\n",
       "      <td>0.000</td>\n",
       "    </tr>\n",
       "    <tr>\n",
       "      <th>24559</th>\n",
       "      <td>24627</td>\n",
       "      <td>2015-12-31</td>\n",
       "      <td>93</td>\n",
       "      <td>71</td>\n",
       "      <td>49</td>\n",
       "      <td>0.06</td>\n",
       "      <td>b'Rain'</td>\n",
       "      <td>New York City (USA)</td>\n",
       "      <td>Winter</td>\n",
       "      <td>317</td>\n",
       "      <td>...</td>\n",
       "      <td>16.09344</td>\n",
       "      <td>16.093440</td>\n",
       "      <td>32.186880</td>\n",
       "      <td>19.312128</td>\n",
       "      <td>40.2336</td>\n",
       "      <td>1019.303089</td>\n",
       "      <td>1017.948533</td>\n",
       "      <td>1016.255339</td>\n",
       "      <td>87.5</td>\n",
       "      <td>1.524</td>\n",
       "    </tr>\n",
       "  </tbody>\n",
       "</table>\n",
       "<p>2 rows × 27 columns</p>\n",
       "</div>"
      ],
      "text/plain": [
       "       Unnamed: 0       Date  Max.Humidity  Mean.Humidity  Min.Humidity  \\\n",
       "0               1 1948-07-01            93             65            46   \n",
       "24559       24627 2015-12-31            93             71            49   \n",
       "\n",
       "       PrecipitationIn   Events                 city  season  \\\n",
       "0                 0.00   b'Fog'  New York City (USA)  Summer   \n",
       "24559             0.06  b'Rain'  New York City (USA)  Winter   \n",
       "\n",
       "       WindDirectionDEG  ...  Max.VisibilityKM  Mean.VisibilityKM  \\\n",
       "0                   264  ...          16.09344          11.265408   \n",
       "24559               317  ...          16.09344          16.093440   \n",
       "\n",
       "       Max.Wind.SpeedKMH  Mean.Wind.SpeedKMH  Max.Gust.SpeedKMH  \\\n",
       "0              25.749504           12.874752                NaN   \n",
       "24559          32.186880           19.312128            40.2336   \n",
       "\n",
       "       Max.Sea.Level.PressureHPA  Mean.Sea.Level.PressureHPA  \\\n",
       "0                    1018.287172                 1016.255339   \n",
       "24559                1019.303089                 1017.948533   \n",
       "\n",
       "       Min.Sea.Level.PressureHPA  CloudCoverPERCENT  PrecipitationMM  \n",
       "0                    1015.239422                0.0            0.000  \n",
       "24559                1016.255339               87.5            1.524  \n",
       "\n",
       "[2 rows x 27 columns]"
      ]
     },
     "execution_count": 26,
     "metadata": {},
     "output_type": "execute_result"
    }
   ],
   "source": [
    "print(f\"Show first and last rows of Weather - after cleaning and conversion:\")\n",
    "df_weather.iloc[[0, -1]]"
   ]
  }
 ],
 "metadata": {
  "kernelspec": {
   "display_name": "Python 3 (ipykernel)",
   "language": "python",
   "name": "python3"
  },
  "language_info": {
   "codemirror_mode": {
    "name": "ipython",
    "version": 3
   },
   "file_extension": ".py",
   "mimetype": "text/x-python",
   "name": "python",
   "nbconvert_exporter": "python",
   "pygments_lexer": "ipython3",
   "version": "3.9.12"
  },
  "vscode": {
   "interpreter": {
    "hash": "53a3388f63f25bac5fed2978889bac1598fee98d83bcc80d76860462d9700892"
   }
  }
 },
 "nbformat": 4,
 "nbformat_minor": 4
}
