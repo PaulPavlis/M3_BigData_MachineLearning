{
 "cells": [
  {
   "cell_type": "code",
   "execution_count": 9,
   "metadata": {},
   "outputs": [],
   "source": [
    "import pandas as pd\n",
    "import os"
   ]
  },
  {
   "cell_type": "code",
   "execution_count": 10,
   "metadata": {},
   "outputs": [],
   "source": [
    "pathname = os.path.join(os.getcwd(), \"data\")\n",
    "filename = \"2015-citibike_tripdata_combined.csv\"\n",
    "filename_sample = \"2015-citibike_tripdata_combined_sample.csv\"\n",
    "\n",
    "use_sample_data = True # Change this flag if you want to use the full data set (~1,7gb). Warning: This will change the runtime significantly"
   ]
  },
  {
   "cell_type": "code",
   "execution_count": 11,
   "metadata": {},
   "outputs": [
    {
     "name": "stdout",
     "output_type": "stream",
     "text": [
      "DataFrame length: 99380\n",
      "DataFrame head:    Unnamed: 0  tripduration           starttime            stoptime  \\\n",
      "0     2018212           146  5/18/2015 13:39:47  5/18/2015 13:42:14   \n",
      "1     1043212          1542  4/13/2015 08:07:06  4/13/2015 08:32:48   \n",
      "2     1435683          6033  4/29/2015 17:11:02  4/29/2015 18:51:35   \n",
      "3     8250156          1414  11/3/2015 16:06:02  11/3/2015 16:29:37   \n",
      "4     5393550           757  8/25/2015 17:30:52  8/25/2015 17:43:29   \n",
      "\n",
      "   start station id        start station name  start station latitude  \\\n",
      "0               335  Washington Pl & Broadway               40.729039   \n",
      "1               545           E 23 St & 1 Ave               40.736502   \n",
      "2               466           W 25 St & 6 Ave               40.743954   \n",
      "3               401   Allen St & Rivington St               40.720196   \n",
      "4              2023   E 55 St & Lexington Ave               40.759681   \n",
      "\n",
      "   start station longitude  end station id           end station name  \\\n",
      "0               -73.994046             439             E 4 St & 2 Ave   \n",
      "1               -73.978095             415  Pearl St & Hanover Square   \n",
      "2               -73.991449             466            W 25 St & 6 Ave   \n",
      "3               -73.989978             459           W 20 St & 11 Ave   \n",
      "4               -73.970314             533         Broadway & W 39 St   \n",
      "\n",
      "   end station latitude  end station longitude  bikeid    usertype  \\\n",
      "0             40.726281             -73.989780   15313  Subscriber   \n",
      "1             40.704718             -74.009260   19785  Subscriber   \n",
      "2             40.743954             -73.991449   19157  Subscriber   \n",
      "3             40.746745             -74.007756   18787  Subscriber   \n",
      "4             40.752996             -73.987216   14819  Subscriber   \n",
      "\n",
      "   birth year  gender  \n",
      "0      1973.0       1  \n",
      "1      1957.0       1  \n",
      "2      1963.0       1  \n",
      "3      1973.0       1  \n",
      "4      1968.0       1  \n"
     ]
    }
   ],
   "source": [
    "df_citibike = pd.DataFrame()\n",
    "if use_sample_data:\n",
    "    df_citibike = pd.read_csv(os.path.join(pathname, filename_sample))\n",
    "else:\n",
    "    df_citibike = pd.read_csv(os.path.join(pathname, filename))\n",
    "\n",
    "# TODO: Extend this with further analysation and graphs\n",
    "print(f\"DataFrame length: {len(df_citibike)}\")\n",
    "print(f\"DataFrame head: {df_citibike.head()}\")"
   ]
  },
  {
   "cell_type": "code",
   "execution_count": null,
   "metadata": {},
   "outputs": [],
   "source": []
  }
 ],
 "metadata": {
  "kernelspec": {
   "display_name": "Python 3.10.4 ('env_visual_analytics')",
   "language": "python",
   "name": "python3"
  },
  "language_info": {
   "codemirror_mode": {
    "name": "ipython",
    "version": 3
   },
   "file_extension": ".py",
   "mimetype": "text/x-python",
   "name": "python",
   "nbconvert_exporter": "python",
   "pygments_lexer": "ipython3",
   "version": "3.10.4"
  },
  "orig_nbformat": 4,
  "vscode": {
   "interpreter": {
    "hash": "53a3388f63f25bac5fed2978889bac1598fee98d83bcc80d76860462d9700892"
   }
  }
 },
 "nbformat": 4,
 "nbformat_minor": 2
}
