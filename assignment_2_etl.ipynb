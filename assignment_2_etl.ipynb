{
 "cells": [
  {
   "cell_type": "markdown",
   "metadata": {},
   "source": [
    "# Assignment 1"
   ]
  },
  {
   "cell_type": "markdown",
   "metadata": {},
   "source": [
    "# Data Preparation"
   ]
  },
  {
   "cell_type": "markdown",
   "metadata": {},
   "source": [
    "### Needed imports"
   ]
  },
  {
   "cell_type": "code",
   "execution_count": 315,
   "metadata": {},
   "outputs": [],
   "source": [
    "import pandas as pd\n",
    "import os\n",
    "# from datetime import datetime\n",
    "# import re # regex support\n",
    "# import matplotlib.pyplot as plt"
   ]
  },
  {
   "cell_type": "markdown",
   "metadata": {},
   "source": [
    "### Data gathering"
   ]
  },
  {
   "cell_type": "code",
   "execution_count": 316,
   "metadata": {},
   "outputs": [],
   "source": [
    "data_pathname = os.path.join(os.getcwd(), \"data\")\n",
    "filename_citibike = \"2015-citibike_tripdata_combined.csv\"\n",
    "filename_citibike_sample = \"2015-citibike_tripdata_combined_sample.csv\"\n",
    "filename_weather = \"weather_data_nyc.csv\"\n",
    "encoding_type = \"utf-8\"\n",
    "\n",
    "use_sample_data = True # Change this flag if you want to use the full data set (~1,7gb). Warning: This will change the runtime significantly"
   ]
  },
  {
   "cell_type": "code",
   "execution_count": 317,
   "metadata": {},
   "outputs": [],
   "source": [
    "df_citibike = pd.DataFrame()\n",
    "if use_sample_data:\n",
    "    df_citibike = pd.read_csv(os.path.join(data_pathname, filename_citibike_sample), encoding=encoding_type)\n",
    "else:\n",
    "    df_citibike = pd.read_csv(os.path.join(data_pathname, filename_citibike), encoding=encoding_type)\n",
    "\n",
    "df_weather = pd.read_csv(os.path.join(data_pathname, filename_weather), encoding=encoding_type)\n"
   ]
  },
  {
   "cell_type": "markdown",
   "metadata": {},
   "source": [
    "# ETL Citibike dataset"
   ]
  },
  {
   "cell_type": "code",
   "execution_count": 318,
   "metadata": {},
   "outputs": [
    {
     "name": "stdout",
     "output_type": "stream",
     "text": [
      "Citibike DataFrame length: 99380\n",
      "Show first and last rows of Citibike:\n"
     ]
    },
    {
     "data": {
      "text/html": [
       "<div>\n",
       "<style scoped>\n",
       "    .dataframe tbody tr th:only-of-type {\n",
       "        vertical-align: middle;\n",
       "    }\n",
       "\n",
       "    .dataframe tbody tr th {\n",
       "        vertical-align: top;\n",
       "    }\n",
       "\n",
       "    .dataframe thead th {\n",
       "        text-align: right;\n",
       "    }\n",
       "</style>\n",
       "<table border=\"1\" class=\"dataframe\">\n",
       "  <thead>\n",
       "    <tr style=\"text-align: right;\">\n",
       "      <th></th>\n",
       "      <th>Unnamed: 0</th>\n",
       "      <th>tripduration</th>\n",
       "      <th>starttime</th>\n",
       "      <th>stoptime</th>\n",
       "      <th>start station id</th>\n",
       "      <th>start station name</th>\n",
       "      <th>start station latitude</th>\n",
       "      <th>start station longitude</th>\n",
       "      <th>end station id</th>\n",
       "      <th>end station name</th>\n",
       "      <th>end station latitude</th>\n",
       "      <th>end station longitude</th>\n",
       "      <th>bikeid</th>\n",
       "      <th>usertype</th>\n",
       "      <th>birth year</th>\n",
       "      <th>gender</th>\n",
       "    </tr>\n",
       "  </thead>\n",
       "  <tbody>\n",
       "    <tr>\n",
       "      <th>1</th>\n",
       "      <td>1043212</td>\n",
       "      <td>1542</td>\n",
       "      <td>4/13/2015 08:07:06</td>\n",
       "      <td>4/13/2015 08:32:48</td>\n",
       "      <td>545</td>\n",
       "      <td>E 23 St &amp; 1 Ave</td>\n",
       "      <td>40.736502</td>\n",
       "      <td>-73.978095</td>\n",
       "      <td>415</td>\n",
       "      <td>Pearl St &amp; Hanover Square</td>\n",
       "      <td>40.704718</td>\n",
       "      <td>-74.009260</td>\n",
       "      <td>19785</td>\n",
       "      <td>Subscriber</td>\n",
       "      <td>1957.0</td>\n",
       "      <td>1</td>\n",
       "    </tr>\n",
       "    <tr>\n",
       "      <th>99379</th>\n",
       "      <td>8672150</td>\n",
       "      <td>418</td>\n",
       "      <td>11/14/2015 15:39:48</td>\n",
       "      <td>11/14/2015 15:46:46</td>\n",
       "      <td>317</td>\n",
       "      <td>E 6 St &amp; Avenue B</td>\n",
       "      <td>40.724537</td>\n",
       "      <td>-73.981854</td>\n",
       "      <td>301</td>\n",
       "      <td>E 2 St &amp; Avenue B</td>\n",
       "      <td>40.722174</td>\n",
       "      <td>-73.983688</td>\n",
       "      <td>19774</td>\n",
       "      <td>Subscriber</td>\n",
       "      <td>1961.0</td>\n",
       "      <td>1</td>\n",
       "    </tr>\n",
       "  </tbody>\n",
       "</table>\n",
       "</div>"
      ],
      "text/plain": [
       "       Unnamed: 0  tripduration            starttime             stoptime  \\\n",
       "1         1043212          1542   4/13/2015 08:07:06   4/13/2015 08:32:48   \n",
       "99379     8672150           418  11/14/2015 15:39:48  11/14/2015 15:46:46   \n",
       "\n",
       "       start station id start station name  start station latitude  \\\n",
       "1                   545    E 23 St & 1 Ave               40.736502   \n",
       "99379               317  E 6 St & Avenue B               40.724537   \n",
       "\n",
       "       start station longitude  end station id           end station name  \\\n",
       "1                   -73.978095             415  Pearl St & Hanover Square   \n",
       "99379               -73.981854             301          E 2 St & Avenue B   \n",
       "\n",
       "       end station latitude  end station longitude  bikeid    usertype  \\\n",
       "1                 40.704718             -74.009260   19785  Subscriber   \n",
       "99379             40.722174             -73.983688   19774  Subscriber   \n",
       "\n",
       "       birth year  gender  \n",
       "1          1957.0       1  \n",
       "99379      1961.0       1  "
      ]
     },
     "execution_count": 318,
     "metadata": {},
     "output_type": "execute_result"
    }
   ],
   "source": [
    "print(f\"Citibike DataFrame length: {len(df_citibike)}\")\n",
    "print(f\"Show first and last rows of Citibike:\")\n",
    "df_citibike.iloc[[1, -1]]"
   ]
  },
  {
   "cell_type": "code",
   "execution_count": 319,
   "metadata": {},
   "outputs": [
    {
     "name": "stdout",
     "output_type": "stream",
     "text": [
      "Citibike DataFrame data types per column (auto import):\n",
      "Unnamed: 0                   int64\n",
      "tripduration                 int64\n",
      "starttime                   object\n",
      "stoptime                    object\n",
      "start station id             int64\n",
      "start station name          object\n",
      "start station latitude     float64\n",
      "start station longitude    float64\n",
      "end station id               int64\n",
      "end station name            object\n",
      "end station latitude       float64\n",
      "end station longitude      float64\n",
      "bikeid                       int64\n",
      "usertype                    object\n",
      "birth year                 float64\n",
      "gender                       int64\n",
      "dtype: object\n"
     ]
    }
   ],
   "source": [
    "print(\"Citibike DataFrame data types per column (auto import):\")\n",
    "print(f\"{df_citibike.dtypes}\")"
   ]
  },
  {
   "cell_type": "markdown",
   "metadata": {},
   "source": [
    "### Renaming"
   ]
  },
  {
   "cell_type": "code",
   "execution_count": 320,
   "metadata": {},
   "outputs": [],
   "source": [
    "df_citibike.rename(columns={\"Unnamed: 0\": \"uniqueid\"}, inplace=True)"
   ]
  },
  {
   "cell_type": "code",
   "execution_count": 321,
   "metadata": {},
   "outputs": [],
   "source": [
    "df_citibike.rename(columns={\"start station id\": \"start_station_id\", \n",
    "                            \"start station name\": \"start_station_name\",\n",
    "                            \"start station latitude\": \"start_station_latitude\",\n",
    "                            \"start station longitude\": \"start_station_longitude\",\n",
    "                            \"end station id\": \"end_station_id\",\n",
    "                            \"end station name\": \"end_station_name\",\n",
    "                            \"end station latitude\": \"end_station_latitude\",\n",
    "                            \"end station longitude\": \"end_station_longitude\",\n",
    "                            \"birth year\": \"birth_year\"}, inplace=True)"
   ]
  },
  {
   "cell_type": "markdown",
   "metadata": {},
   "source": [
    "### Type Conversion"
   ]
  },
  {
   "cell_type": "code",
   "execution_count": 322,
   "metadata": {},
   "outputs": [
    {
     "name": "stdout",
     "output_type": "stream",
     "text": [
      "Convert column starttime and stoptime from object to datetime\n",
      "Example after conversion: 2015-06-30 17:59:00 with type datetime64[ns]\n"
     ]
    }
   ],
   "source": [
    "print(\"Convert column starttime and stoptime from object to datetime\") # Some missing seconds values\n",
    "df_citibike['starttime'] = pd.to_datetime(df_citibike['starttime'], format=\"%m/%d/%Y %H:%M:%S\", errors=\"coerce\").fillna(pd.to_datetime(df_citibike['starttime'], format=\"%m/%d/%Y %H:%M\", errors=\"coerce\"))\n",
    "df_citibike['stoptime']  = pd.to_datetime(df_citibike['stoptime' ], format=\"%m/%d/%Y %H:%M:%S\", errors=\"coerce\").fillna(pd.to_datetime(df_citibike['stoptime' ], format=\"%m/%d/%Y %H:%M\", errors=\"coerce\"))\n",
    "print(f\"Example after conversion: {df_citibike['stoptime'][42]} with type {df_citibike['stoptime'].dtype}\")"
   ]
  },
  {
   "cell_type": "code",
   "execution_count": 323,
   "metadata": {},
   "outputs": [
    {
     "name": "stdout",
     "output_type": "stream",
     "text": [
      "Checking for categorial values in the columns\n",
      "Column uniqueid has 99380 distinct values\n",
      "Column tripduration has 4294 distinct values\n",
      "Column starttime has 97028 distinct values\n",
      "Column stoptime has 97046 distinct values\n",
      "Column start_station_id has 485 distinct values\n",
      "Column start_station_name has 494 distinct values\n",
      "Column start_station_latitude has 507 distinct values\n",
      "Column start_station_longitude has 507 distinct values\n",
      "Column end_station_id has 488 distinct values\n",
      "Column end_station_name has 497 distinct values\n",
      "Column end_station_latitude has 510 distinct values\n",
      "Column end_station_longitude has 510 distinct values\n",
      "Column bikeid has 8348 distinct values\n",
      "Column usertype has 2 distinct values\n",
      "Column birth_year has 77 distinct values\n",
      "Column gender has 3 distinct values\n"
     ]
    }
   ],
   "source": [
    "print(\"Checking for categorial values in the columns\")\n",
    "for column in df_citibike.columns:\n",
    "    print(f\"Column {column} has {df_citibike[column].value_counts().count()} distinct values\")"
   ]
  },
  {
   "cell_type": "code",
   "execution_count": 324,
   "metadata": {},
   "outputs": [
    {
     "name": "stdout",
     "output_type": "stream",
     "text": [
      "Convert to categorial variables\n"
     ]
    }
   ],
   "source": [
    "print(\"Convert to categorial variables\")\n",
    "df_citibike[\"start_station_id\"] = df_citibike[\"start_station_id\"].astype(\"category\")\n",
    "df_citibike[\"end_station_id\"] = df_citibike[\"end_station_id\"].astype(\"category\")\n",
    "df_citibike[\"usertype\"] = df_citibike[\"usertype\"].astype(\"category\")\n",
    "df_citibike[\"gender\"] = df_citibike[\"gender\"].astype(\"category\")"
   ]
  },
  {
   "cell_type": "code",
   "execution_count": 325,
   "metadata": {},
   "outputs": [
    {
     "name": "stdout",
     "output_type": "stream",
     "text": [
      "Convert birth_year to Integer\n"
     ]
    }
   ],
   "source": [
    "print(\"Convert birth_year to Integer\")\n",
    "df_citibike[\"birth_year\"] = df_citibike[\"birth_year\"].astype(\"Int64\") #Int64Dtype can handle NaN values compared to int64"
   ]
  },
  {
   "cell_type": "markdown",
   "metadata": {},
   "source": [
    "### Creating a date column"
   ]
  },
  {
   "cell_type": "code",
   "execution_count": 326,
   "metadata": {},
   "outputs": [],
   "source": [
    "df_citibike[\"Date\"] = pd.to_datetime(df_citibike[\"starttime\"].dt.date)"
   ]
  },
  {
   "cell_type": "markdown",
   "metadata": {},
   "source": [
    "### Detect and handle outliers"
   ]
  },
  {
   "cell_type": "code",
   "execution_count": 327,
   "metadata": {},
   "outputs": [],
   "source": [
    "# TODO: do this"
   ]
  },
  {
   "cell_type": "markdown",
   "metadata": {},
   "source": [
    "### Final Checks"
   ]
  },
  {
   "cell_type": "code",
   "execution_count": 328,
   "metadata": {},
   "outputs": [
    {
     "name": "stdout",
     "output_type": "stream",
     "text": [
      "Check for missing values in Citibike:\n"
     ]
    },
    {
     "data": {
      "text/plain": [
       "uniqueid                       0\n",
       "tripduration                   0\n",
       "starttime                      0\n",
       "stoptime                       0\n",
       "start_station_id               0\n",
       "start_station_name             0\n",
       "start_station_latitude         0\n",
       "start_station_longitude        0\n",
       "end_station_id                 0\n",
       "end_station_name               0\n",
       "end_station_latitude           0\n",
       "end_station_longitude          0\n",
       "bikeid                         0\n",
       "usertype                       0\n",
       "birth_year                 13079\n",
       "gender                         0\n",
       "Date                           0\n",
       "dtype: int64"
      ]
     },
     "execution_count": 328,
     "metadata": {},
     "output_type": "execute_result"
    }
   ],
   "source": [
    "print(\"Check for missing values in Citibike:\")\n",
    "df_citibike.isna().sum()"
   ]
  },
  {
   "cell_type": "markdown",
   "metadata": {},
   "source": [
    "Since there are only values missing in the birth year, we decided to keep them in and use a later learned ml algorithm to try to guess the age (knn or other techniques)"
   ]
  },
  {
   "cell_type": "code",
   "execution_count": 329,
   "metadata": {},
   "outputs": [
    {
     "name": "stdout",
     "output_type": "stream",
     "text": [
      "Final Citibike DataFrame data types per column:\n",
      "uniqueid                            int64\n",
      "tripduration                        int64\n",
      "starttime                  datetime64[ns]\n",
      "stoptime                   datetime64[ns]\n",
      "start_station_id                 category\n",
      "start_station_name                 object\n",
      "start_station_latitude            float64\n",
      "start_station_longitude           float64\n",
      "end_station_id                   category\n",
      "end_station_name                   object\n",
      "end_station_latitude              float64\n",
      "end_station_longitude             float64\n",
      "bikeid                              int64\n",
      "usertype                         category\n",
      "birth_year                          Int64\n",
      "gender                           category\n",
      "Date                       datetime64[ns]\n",
      "dtype: object\n"
     ]
    }
   ],
   "source": [
    "print(\"Final Citibike DataFrame data types per column:\")\n",
    "print(f\"{df_citibike.dtypes}\")"
   ]
  },
  {
   "cell_type": "code",
   "execution_count": 330,
   "metadata": {},
   "outputs": [
    {
     "name": "stdout",
     "output_type": "stream",
     "text": [
      "Final cleaning citibike dataset (first and last row):\n"
     ]
    },
    {
     "data": {
      "text/html": [
       "<div>\n",
       "<style scoped>\n",
       "    .dataframe tbody tr th:only-of-type {\n",
       "        vertical-align: middle;\n",
       "    }\n",
       "\n",
       "    .dataframe tbody tr th {\n",
       "        vertical-align: top;\n",
       "    }\n",
       "\n",
       "    .dataframe thead th {\n",
       "        text-align: right;\n",
       "    }\n",
       "</style>\n",
       "<table border=\"1\" class=\"dataframe\">\n",
       "  <thead>\n",
       "    <tr style=\"text-align: right;\">\n",
       "      <th></th>\n",
       "      <th>uniqueid</th>\n",
       "      <th>tripduration</th>\n",
       "      <th>starttime</th>\n",
       "      <th>stoptime</th>\n",
       "      <th>start_station_id</th>\n",
       "      <th>start_station_name</th>\n",
       "      <th>start_station_latitude</th>\n",
       "      <th>start_station_longitude</th>\n",
       "      <th>end_station_id</th>\n",
       "      <th>end_station_name</th>\n",
       "      <th>end_station_latitude</th>\n",
       "      <th>end_station_longitude</th>\n",
       "      <th>bikeid</th>\n",
       "      <th>usertype</th>\n",
       "      <th>birth_year</th>\n",
       "      <th>gender</th>\n",
       "      <th>Date</th>\n",
       "    </tr>\n",
       "  </thead>\n",
       "  <tbody>\n",
       "    <tr>\n",
       "      <th>1</th>\n",
       "      <td>1043212</td>\n",
       "      <td>1542</td>\n",
       "      <td>2015-04-13 08:07:06</td>\n",
       "      <td>2015-04-13 08:32:48</td>\n",
       "      <td>545</td>\n",
       "      <td>E 23 St &amp; 1 Ave</td>\n",
       "      <td>40.736502</td>\n",
       "      <td>-73.978095</td>\n",
       "      <td>415</td>\n",
       "      <td>Pearl St &amp; Hanover Square</td>\n",
       "      <td>40.704718</td>\n",
       "      <td>-74.009260</td>\n",
       "      <td>19785</td>\n",
       "      <td>Subscriber</td>\n",
       "      <td>1957</td>\n",
       "      <td>1</td>\n",
       "      <td>2015-04-13</td>\n",
       "    </tr>\n",
       "    <tr>\n",
       "      <th>99379</th>\n",
       "      <td>8672150</td>\n",
       "      <td>418</td>\n",
       "      <td>2015-11-14 15:39:48</td>\n",
       "      <td>2015-11-14 15:46:46</td>\n",
       "      <td>317</td>\n",
       "      <td>E 6 St &amp; Avenue B</td>\n",
       "      <td>40.724537</td>\n",
       "      <td>-73.981854</td>\n",
       "      <td>301</td>\n",
       "      <td>E 2 St &amp; Avenue B</td>\n",
       "      <td>40.722174</td>\n",
       "      <td>-73.983688</td>\n",
       "      <td>19774</td>\n",
       "      <td>Subscriber</td>\n",
       "      <td>1961</td>\n",
       "      <td>1</td>\n",
       "      <td>2015-11-14</td>\n",
       "    </tr>\n",
       "  </tbody>\n",
       "</table>\n",
       "</div>"
      ],
      "text/plain": [
       "       uniqueid  tripduration           starttime            stoptime  \\\n",
       "1       1043212          1542 2015-04-13 08:07:06 2015-04-13 08:32:48   \n",
       "99379   8672150           418 2015-11-14 15:39:48 2015-11-14 15:46:46   \n",
       "\n",
       "      start_station_id start_station_name  start_station_latitude  \\\n",
       "1                  545    E 23 St & 1 Ave               40.736502   \n",
       "99379              317  E 6 St & Avenue B               40.724537   \n",
       "\n",
       "       start_station_longitude end_station_id           end_station_name  \\\n",
       "1                   -73.978095            415  Pearl St & Hanover Square   \n",
       "99379               -73.981854            301          E 2 St & Avenue B   \n",
       "\n",
       "       end_station_latitude  end_station_longitude  bikeid    usertype  \\\n",
       "1                 40.704718             -74.009260   19785  Subscriber   \n",
       "99379             40.722174             -73.983688   19774  Subscriber   \n",
       "\n",
       "       birth_year gender       Date  \n",
       "1            1957      1 2015-04-13  \n",
       "99379        1961      1 2015-11-14  "
      ]
     },
     "execution_count": 330,
     "metadata": {},
     "output_type": "execute_result"
    }
   ],
   "source": [
    "print(\"Final cleaning citibike dataset (first and last row):\")\n",
    "df_citibike.iloc[[1, -1]]"
   ]
  },
  {
   "cell_type": "markdown",
   "metadata": {},
   "source": [
    "# ETL Weather dataset"
   ]
  },
  {
   "cell_type": "code",
   "execution_count": 331,
   "metadata": {},
   "outputs": [
    {
     "data": {
      "text/html": [
       "<div>\n",
       "<style scoped>\n",
       "    .dataframe tbody tr th:only-of-type {\n",
       "        vertical-align: middle;\n",
       "    }\n",
       "\n",
       "    .dataframe tbody tr th {\n",
       "        vertical-align: top;\n",
       "    }\n",
       "\n",
       "    .dataframe thead th {\n",
       "        text-align: right;\n",
       "    }\n",
       "</style>\n",
       "<table border=\"1\" class=\"dataframe\">\n",
       "  <thead>\n",
       "    <tr style=\"text-align: right;\">\n",
       "      <th></th>\n",
       "      <th>Unnamed: 0</th>\n",
       "      <th>Date</th>\n",
       "      <th>Max.TemperatureF</th>\n",
       "      <th>Mean.TemperatureF</th>\n",
       "      <th>Min.TemperatureF</th>\n",
       "      <th>Max.Dew.PointF</th>\n",
       "      <th>MeanDew.PointF</th>\n",
       "      <th>Min.DewpointF</th>\n",
       "      <th>Max.Humidity</th>\n",
       "      <th>Mean.Humidity</th>\n",
       "      <th>...</th>\n",
       "      <th>Min.VisibilityMiles</th>\n",
       "      <th>Max.Wind.SpeedMPH</th>\n",
       "      <th>Mean.Wind.SpeedMPH</th>\n",
       "      <th>Max.Gust.SpeedMPH</th>\n",
       "      <th>PrecipitationIn</th>\n",
       "      <th>CloudCover</th>\n",
       "      <th>Events</th>\n",
       "      <th>WindDirDegrees.br...</th>\n",
       "      <th>city</th>\n",
       "      <th>season</th>\n",
       "    </tr>\n",
       "  </thead>\n",
       "  <tbody>\n",
       "    <tr>\n",
       "      <th>1</th>\n",
       "      <td>2</td>\n",
       "      <td>1948-07-02</td>\n",
       "      <td>82</td>\n",
       "      <td>72.0</td>\n",
       "      <td>63</td>\n",
       "      <td>62</td>\n",
       "      <td>53</td>\n",
       "      <td>49</td>\n",
       "      <td>76</td>\n",
       "      <td>51</td>\n",
       "      <td>...</td>\n",
       "      <td>10.0</td>\n",
       "      <td>16</td>\n",
       "      <td>10</td>\n",
       "      <td>NaN</td>\n",
       "      <td>0.00</td>\n",
       "      <td>0.0</td>\n",
       "      <td>NaN</td>\n",
       "      <td>315&lt;br /&gt;</td>\n",
       "      <td>New York City (USA)</td>\n",
       "      <td>Summer</td>\n",
       "    </tr>\n",
       "    <tr>\n",
       "      <th>24559</th>\n",
       "      <td>24627</td>\n",
       "      <td>2015-12-31</td>\n",
       "      <td>52</td>\n",
       "      <td>48.0</td>\n",
       "      <td>43</td>\n",
       "      <td>46</td>\n",
       "      <td>38</td>\n",
       "      <td>27</td>\n",
       "      <td>93</td>\n",
       "      <td>71</td>\n",
       "      <td>...</td>\n",
       "      <td>5.0</td>\n",
       "      <td>20</td>\n",
       "      <td>12</td>\n",
       "      <td>25.0</td>\n",
       "      <td>0.06</td>\n",
       "      <td>7.0</td>\n",
       "      <td>Rain</td>\n",
       "      <td>317&lt;br /&gt;</td>\n",
       "      <td>New York City (USA)</td>\n",
       "      <td>Winter</td>\n",
       "    </tr>\n",
       "  </tbody>\n",
       "</table>\n",
       "<p>2 rows × 26 columns</p>\n",
       "</div>"
      ],
      "text/plain": [
       "       Unnamed: 0        Date  Max.TemperatureF  Mean.TemperatureF  \\\n",
       "1               2  1948-07-02                82               72.0   \n",
       "24559       24627  2015-12-31                52               48.0   \n",
       "\n",
       "       Min.TemperatureF  Max.Dew.PointF  MeanDew.PointF  Min.DewpointF  \\\n",
       "1                    63              62              53             49   \n",
       "24559                43              46              38             27   \n",
       "\n",
       "       Max.Humidity  Mean.Humidity  ...  Min.VisibilityMiles  \\\n",
       "1                76             51  ...                 10.0   \n",
       "24559            93             71  ...                  5.0   \n",
       "\n",
       "       Max.Wind.SpeedMPH  Mean.Wind.SpeedMPH  Max.Gust.SpeedMPH  \\\n",
       "1                     16                  10                NaN   \n",
       "24559                 20                  12               25.0   \n",
       "\n",
       "       PrecipitationIn  CloudCover  Events  WindDirDegrees.br...  \\\n",
       "1                 0.00         0.0     NaN             315<br />   \n",
       "24559             0.06         7.0    Rain             317<br />   \n",
       "\n",
       "                      city  season  \n",
       "1      New York City (USA)  Summer  \n",
       "24559  New York City (USA)  Winter  \n",
       "\n",
       "[2 rows x 26 columns]"
      ]
     },
     "execution_count": 331,
     "metadata": {},
     "output_type": "execute_result"
    }
   ],
   "source": [
    "df_weather.iloc[[1, -1]]"
   ]
  },
  {
   "cell_type": "code",
   "execution_count": 332,
   "metadata": {},
   "outputs": [
    {
     "name": "stdout",
     "output_type": "stream",
     "text": [
      "Weather DataFrame data types per column (auto import):\n",
      "Unnamed: 0                     int64\n",
      "Date                          object\n",
      "Max.TemperatureF               int64\n",
      "Mean.TemperatureF            float64\n",
      "Min.TemperatureF               int64\n",
      "Max.Dew.PointF                 int64\n",
      "MeanDew.PointF                 int64\n",
      "Min.DewpointF                  int64\n",
      "Max.Humidity                   int64\n",
      "Mean.Humidity                  int64\n",
      "Min.Humidity                   int64\n",
      "Max.Sea.Level.PressureIn     float64\n",
      "Mean.Sea.Level.PressureIn    float64\n",
      "Min.Sea.Level.PressureIn     float64\n",
      "Max.VisibilityMiles          float64\n",
      "Mean.VisibilityMiles         float64\n",
      "Min.VisibilityMiles          float64\n",
      "Max.Wind.SpeedMPH              int64\n",
      "Mean.Wind.SpeedMPH             int64\n",
      "Max.Gust.SpeedMPH            float64\n",
      "PrecipitationIn               object\n",
      "CloudCover                   float64\n",
      "Events                        object\n",
      "WindDirDegrees.br...          object\n",
      "city                          object\n",
      "season                        object\n",
      "dtype: object\n"
     ]
    }
   ],
   "source": [
    "print(\"Weather DataFrame data types per column (auto import):\")\n",
    "print(f\"{df_weather.dtypes}\")"
   ]
  },
  {
   "cell_type": "code",
   "execution_count": 333,
   "metadata": {},
   "outputs": [
    {
     "name": "stdout",
     "output_type": "stream",
     "text": [
      "Convert column Date from object to datetime\n"
     ]
    }
   ],
   "source": [
    "print(\"Convert column Date from object to datetime\")\n",
    "df_weather['Date'] = pd.to_datetime(df_weather['Date'], format='%Y-%m-%d')"
   ]
  },
  {
   "cell_type": "code",
   "execution_count": 334,
   "metadata": {},
   "outputs": [
    {
     "data": {
      "text/plain": [
       "0       1948-07-01\n",
       "24559   2015-12-31\n",
       "Name: Date, dtype: datetime64[ns]"
      ]
     },
     "execution_count": 334,
     "metadata": {},
     "output_type": "execute_result"
    }
   ],
   "source": [
    "df_weather[\"Date\"].iloc[[0, -1]]"
   ]
  },
  {
   "cell_type": "code",
   "execution_count": 335,
   "metadata": {},
   "outputs": [
    {
     "name": "stdout",
     "output_type": "stream",
     "text": [
      "Convert column PrecipitationIn from object to float\n"
     ]
    }
   ],
   "source": [
    "print(\"Convert column PrecipitationIn from object to float\")\n",
    "df_weather['PrecipitationIn'] = pd.to_numeric(df_weather['PrecipitationIn'], errors='coerce')"
   ]
  },
  {
   "cell_type": "code",
   "execution_count": 336,
   "metadata": {},
   "outputs": [
    {
     "name": "stdout",
     "output_type": "stream",
     "text": [
      "Convert column Events from object to string\n"
     ]
    },
    {
     "data": {
      "text/plain": [
       "0         b'Fog'\n",
       "24559    b'Rain'\n",
       "Name: Events, dtype: bytes208"
      ]
     },
     "execution_count": 336,
     "metadata": {},
     "output_type": "execute_result"
    }
   ],
   "source": [
    "print(\"Convert column Events from object to string\")\n",
    "df_weather['Events'] = df_weather['Events'].astype('|S') \n",
    "df_weather[\"Events\"].iloc[[0, -1]]"
   ]
  },
  {
   "cell_type": "code",
   "execution_count": 337,
   "metadata": {},
   "outputs": [
    {
     "name": "stdout",
     "output_type": "stream",
     "text": [
      "Convert column WindDirDegrees.br... from object to integer and clean the data\n"
     ]
    },
    {
     "data": {
      "text/plain": [
       "0        264\n",
       "24559    317\n",
       "Name: WindDirectionDEG, dtype: int32"
      ]
     },
     "execution_count": 337,
     "metadata": {},
     "output_type": "execute_result"
    }
   ],
   "source": [
    "print(\"Convert column WindDirDegrees.br... from object to integer and clean the data\")\n",
    "\n",
    "df_weather['WindDirectionDEG'] = df_weather['WindDirDegrees.br...'].str.removesuffix(\"<br />\")\n",
    "df_weather['WindDirectionDEG'] = df_weather['WindDirectionDEG'].astype('int')\n",
    "df_weather[\"WindDirectionDEG\"].iloc[[0, -1]]"
   ]
  },
  {
   "cell_type": "code",
   "execution_count": 338,
   "metadata": {},
   "outputs": [
    {
     "name": "stdout",
     "output_type": "stream",
     "text": [
      "Converting Fahrenheit to Celsius\n",
      "Converting Miles to Kilometer\n",
      "Converting inHg to hPa\n",
      "Converting CloudCover from eighths to percent\n",
      "Converting Inch to Millimeter\n"
     ]
    }
   ],
   "source": [
    "print(\"Converting Fahrenheit to Celsius\")\n",
    "def fahrenheit_to_celsius(fahrenheit):\n",
    "    celsius = (fahrenheit - 32) * 5 / 9\n",
    "    return celsius\n",
    "\n",
    "df_weather[\"Max.TemperatureC\"] = fahrenheit_to_celsius(df_weather[\"Max.TemperatureF\"])\n",
    "df_weather[\"Mean.TemperatureC\"] = fahrenheit_to_celsius(df_weather[\"Mean.TemperatureF\"])\n",
    "df_weather[\"Min.TemperatureC\"] = fahrenheit_to_celsius(df_weather[\"Min.TemperatureF\"])\n",
    "df_weather[\"Max.DewpointC\"] = fahrenheit_to_celsius(df_weather[\"Max.Dew.PointF\"])\n",
    "df_weather[\"Mean.DewpointC\"] = fahrenheit_to_celsius(df_weather[\"MeanDew.PointF\"])\n",
    "df_weather[\"Min.DewpointC\"] = fahrenheit_to_celsius(df_weather[\"Min.DewpointF\"])\n",
    "\n",
    "#df_weather.rename(columns={\"Max.TemperatureF\": \"Max.Temperature\", \"Mean.TemperatureF\": \"Mean.Temperature\"})\n",
    "\n",
    "print(\"Converting Miles to Kilometer\")\n",
    "def miles_to_km(miles):\n",
    "    km = miles * 1.609344\n",
    "    return km\n",
    "df_weather[\"Min.VisibilityKM\"] = miles_to_km(df_weather[\"Min.VisibilityMiles\"])\n",
    "df_weather[\"Max.VisibilityKM\"] = miles_to_km(df_weather[\"Max.VisibilityMiles\"])\n",
    "df_weather[\"Mean.VisibilityKM\"] = miles_to_km(df_weather[\"Mean.VisibilityMiles\"])\n",
    "df_weather[\"Max.Wind.SpeedKMH\"] = miles_to_km(df_weather[\"Max.Wind.SpeedMPH\"])\n",
    "df_weather[\"Mean.Wind.SpeedKMH\"] = miles_to_km(df_weather[\"Mean.Wind.SpeedMPH\"])\n",
    "df_weather[\"Max.Gust.SpeedKMH\"] = miles_to_km(df_weather[\"Max.Gust.SpeedMPH\"])\n",
    "\n",
    "print(\"Converting inHg to hPa\")\n",
    "def inhg_to_hpa(inhg):\n",
    "    hpa = inhg * 33.86389\n",
    "    return hpa\n",
    "\n",
    "df_weather[\"Max.Sea.Level.PressureHPA\"] = inhg_to_hpa(df_weather[\"Max.Sea.Level.PressureIn\"])\n",
    "df_weather[\"Mean.Sea.Level.PressureHPA\"] = inhg_to_hpa(df_weather[\"Mean.Sea.Level.PressureIn\"])\n",
    "df_weather[\"Min.Sea.Level.PressureHPA\"] = inhg_to_hpa(df_weather[\"Min.Sea.Level.PressureIn\"])\n",
    "\n",
    "print(\"Converting CloudCover from eighths to percent\")\n",
    "def eighths_to_percent(eighths):\n",
    "    percent = eighths / 8 * 100\n",
    "    return percent\n",
    "\n",
    "df_weather[\"CloudCoverPERCENT\"] = eighths_to_percent(df_weather[\"CloudCover\"])\n",
    "\n",
    "print(\"Converting Inch to Millimeter\")\n",
    "def inch_to_mm(inch):\n",
    "    mm = inch * 25.4\n",
    "    return mm\n",
    "\n",
    "df_weather[\"PrecipitationMM\"] = inch_to_mm(df_weather[\"PrecipitationIn\"])\n",
    "\n",
    "\n"
   ]
  },
  {
   "cell_type": "code",
   "execution_count": 339,
   "metadata": {},
   "outputs": [],
   "source": [
    "df_weather.drop(['Max.TemperatureF', 'Mean.TemperatureF', 'Min.TemperatureF', 'Max.Dew.PointF', 'MeanDew.PointF', 'Min.DewpointF', 'Min.VisibilityMiles', 'Max.VisibilityMiles', 'Mean.VisibilityMiles', 'Max.Wind.SpeedMPH', 'Mean.Wind.SpeedMPH', 'Max.Gust.SpeedMPH', 'Max.Sea.Level.PressureIn', 'Mean.Sea.Level.PressureIn', 'Min.Sea.Level.PressureIn', 'CloudCover', 'WindDirDegrees.br...'], axis=1, inplace=True)"
   ]
  },
  {
   "cell_type": "code",
   "execution_count": 340,
   "metadata": {},
   "outputs": [
    {
     "name": "stdout",
     "output_type": "stream",
     "text": [
      "Checking for categorial values in the columns\n",
      "Column Unnamed: 0 has 24560 distinct values\n",
      "Column Date has 24560 distinct values\n",
      "Column Max.Humidity has 68 distinct values\n",
      "Column Mean.Humidity has 81 distinct values\n",
      "Column Min.Humidity has 91 distinct values\n",
      "Column PrecipitationIn has 364 distinct values\n",
      "Column Events has 17 distinct values\n",
      "Column city has 1 distinct values\n",
      "Column season has 4 distinct values\n",
      "Column WindDirectionDEG has 361 distinct values\n",
      "Column Max.TemperatureC has 95 distinct values\n",
      "Column Mean.TemperatureC has 87 distinct values\n",
      "Column Min.TemperatureC has 82 distinct values\n",
      "Column Max.DewpointC has 90 distinct values\n",
      "Column Mean.DewpointC has 93 distinct values\n",
      "Column Min.DewpointC has 99 distinct values\n",
      "Column Min.VisibilityKM has 13 distinct values\n",
      "Column Max.VisibilityKM has 13 distinct values\n",
      "Column Mean.VisibilityKM has 21 distinct values\n",
      "Column Max.Wind.SpeedKMH has 54 distinct values\n",
      "Column Mean.Wind.SpeedKMH has 38 distinct values\n",
      "Column Max.Gust.SpeedKMH has 83 distinct values\n",
      "Column Max.Sea.Level.PressureHPA has 164 distinct values\n",
      "Column Mean.Sea.Level.PressureHPA has 177 distinct values\n",
      "Column Min.Sea.Level.PressureHPA has 197 distinct values\n",
      "Column CloudCoverPERCENT has 9 distinct values\n",
      "Column PrecipitationMM has 364 distinct values\n"
     ]
    }
   ],
   "source": [
    "print(\"Checking for categorial values in the columns\")\n",
    "for column in df_weather.columns:\n",
    "    print(f\"Column {column} has {df_weather[column].value_counts().count()} distinct values\")"
   ]
  },
  {
   "cell_type": "code",
   "execution_count": 341,
   "metadata": {},
   "outputs": [
    {
     "data": {
      "text/plain": [
       "4"
      ]
     },
     "execution_count": 341,
     "metadata": {},
     "output_type": "execute_result"
    }
   ],
   "source": [
    "df_weather['season'].value_counts().count()"
   ]
  },
  {
   "cell_type": "code",
   "execution_count": 342,
   "metadata": {},
   "outputs": [
    {
     "data": {
      "text/plain": [
       "Summer    6364\n",
       "Spring    6178\n",
       "Autumn    6052\n",
       "Winter    5966\n",
       "Name: season, dtype: int64"
      ]
     },
     "execution_count": 342,
     "metadata": {},
     "output_type": "execute_result"
    }
   ],
   "source": [
    "df_weather['season'].value_counts()"
   ]
  },
  {
   "cell_type": "code",
   "execution_count": 343,
   "metadata": {},
   "outputs": [],
   "source": [
    "df_weather['season'] = df_weather['season'].astype('category')"
   ]
  },
  {
   "cell_type": "code",
   "execution_count": 344,
   "metadata": {},
   "outputs": [
    {
     "data": {
      "text/plain": [
       "17"
      ]
     },
     "execution_count": 344,
     "metadata": {},
     "output_type": "execute_result"
    }
   ],
   "source": [
    "df_weather['Events'].value_counts().count()"
   ]
  },
  {
   "cell_type": "code",
   "execution_count": 345,
   "metadata": {},
   "outputs": [
    {
     "data": {
      "text/plain": [
       "b'nan'                           12839\n",
       "b'Rain'                           3514\n",
       "b'Fog-Rain'                       3276\n",
       "b'Fog'                            1937\n",
       "b'Snow'                            694\n",
       "b'Fog-Rain-Thunderstorm'           668\n",
       "b'Rain-Thunderstorm'               648\n",
       "b'Fog-Rain-Snow'                   378\n",
       "b'Rain-Snow'                       288\n",
       "b'Fog-Snow'                        274\n",
       "b'Thunderstorm'                     19\n",
       "b'Fog-Rain-Snow-Thunderstorm'       11\n",
       "b'Fog-Thunderstorm'                  8\n",
       "b'Rain-Snow-Thunderstorm'            3\n",
       "b'Fog-Snow-Thunderstorm'             1\n",
       "b'Fog-Rain-Hail-Thunderstorm'        1\n",
       "b'Tornado'                           1\n",
       "Name: Events, dtype: int64"
      ]
     },
     "execution_count": 345,
     "metadata": {},
     "output_type": "execute_result"
    }
   ],
   "source": [
    "df_weather['Events'].value_counts()"
   ]
  },
  {
   "cell_type": "code",
   "execution_count": 346,
   "metadata": {},
   "outputs": [
    {
     "data": {
      "text/plain": [
       "1"
      ]
     },
     "execution_count": 346,
     "metadata": {},
     "output_type": "execute_result"
    }
   ],
   "source": [
    "df_weather['city'].value_counts().count()"
   ]
  },
  {
   "cell_type": "code",
   "execution_count": 347,
   "metadata": {},
   "outputs": [
    {
     "data": {
      "text/plain": [
       "New York City (USA)    24560\n",
       "Name: city, dtype: int64"
      ]
     },
     "execution_count": 347,
     "metadata": {},
     "output_type": "execute_result"
    }
   ],
   "source": [
    "df_weather['city'].value_counts()"
   ]
  },
  {
   "cell_type": "code",
   "execution_count": 348,
   "metadata": {},
   "outputs": [],
   "source": [
    "df_weather['city'] = df_weather['city'].astype('category')"
   ]
  },
  {
   "cell_type": "code",
   "execution_count": 349,
   "metadata": {},
   "outputs": [
    {
     "data": {
      "text/plain": [
       "0.0      6738\n",
       "100.0    2200\n",
       "75.0     2195\n",
       "87.5     2157\n",
       "62.5     2132\n",
       "50.0     1987\n",
       "37.5     1755\n",
       "25.0     1498\n",
       "12.5     1117\n",
       "Name: CloudCoverPERCENT, dtype: int64"
      ]
     },
     "execution_count": 349,
     "metadata": {},
     "output_type": "execute_result"
    }
   ],
   "source": [
    "df_weather['CloudCoverPERCENT'].value_counts()"
   ]
  },
  {
   "cell_type": "code",
   "execution_count": 350,
   "metadata": {},
   "outputs": [
    {
     "name": "stdout",
     "output_type": "stream",
     "text": [
      "Weather data types after cleaning and conversion:\n",
      "Unnamed: 0                             int64\n",
      "Date                          datetime64[ns]\n",
      "Max.Humidity                           int64\n",
      "Mean.Humidity                          int64\n",
      "Min.Humidity                           int64\n",
      "PrecipitationIn                      float64\n",
      "Events                                  |S26\n",
      "city                                category\n",
      "season                              category\n",
      "WindDirectionDEG                       int32\n",
      "Max.TemperatureC                     float64\n",
      "Mean.TemperatureC                    float64\n",
      "Min.TemperatureC                     float64\n",
      "Max.DewpointC                        float64\n",
      "Mean.DewpointC                       float64\n",
      "Min.DewpointC                        float64\n",
      "Min.VisibilityKM                     float64\n",
      "Max.VisibilityKM                     float64\n",
      "Mean.VisibilityKM                    float64\n",
      "Max.Wind.SpeedKMH                    float64\n",
      "Mean.Wind.SpeedKMH                   float64\n",
      "Max.Gust.SpeedKMH                    float64\n",
      "Max.Sea.Level.PressureHPA            float64\n",
      "Mean.Sea.Level.PressureHPA           float64\n",
      "Min.Sea.Level.PressureHPA            float64\n",
      "CloudCoverPERCENT                    float64\n",
      "PrecipitationMM                      float64\n",
      "dtype: object\n"
     ]
    }
   ],
   "source": [
    "print(\"Weather data types after cleaning and conversion:\")\n",
    "print(f\"{df_weather.dtypes}\")"
   ]
  },
  {
   "cell_type": "code",
   "execution_count": 351,
   "metadata": {},
   "outputs": [
    {
     "name": "stdout",
     "output_type": "stream",
     "text": [
      "Check for missing values in Weaterh:\n"
     ]
    },
    {
     "data": {
      "text/plain": [
       "Unnamed: 0                        0\n",
       "Date                              0\n",
       "Max.Humidity                      0\n",
       "Mean.Humidity                     0\n",
       "Min.Humidity                      0\n",
       "PrecipitationIn                 525\n",
       "Events                            0\n",
       "city                              0\n",
       "season                            0\n",
       "WindDirectionDEG                  0\n",
       "Max.TemperatureC                  0\n",
       "Mean.TemperatureC                 2\n",
       "Min.TemperatureC                  0\n",
       "Max.DewpointC                     0\n",
       "Mean.DewpointC                    0\n",
       "Min.DewpointC                     0\n",
       "Min.VisibilityKM                 15\n",
       "Max.VisibilityKM                 15\n",
       "Mean.VisibilityKM                15\n",
       "Max.Wind.SpeedKMH                 0\n",
       "Mean.Wind.SpeedKMH                0\n",
       "Max.Gust.SpeedKMH             15538\n",
       "Max.Sea.Level.PressureHPA         0\n",
       "Mean.Sea.Level.PressureHPA        0\n",
       "Min.Sea.Level.PressureHPA         0\n",
       "CloudCoverPERCENT              2781\n",
       "PrecipitationMM                 525\n",
       "dtype: int64"
      ]
     },
     "execution_count": 351,
     "metadata": {},
     "output_type": "execute_result"
    }
   ],
   "source": [
    "print(\"Check for missing values in Weaterh:\")\n",
    "df_weather.isna().sum()"
   ]
  },
  {
   "cell_type": "code",
   "execution_count": 352,
   "metadata": {},
   "outputs": [
    {
     "name": "stdout",
     "output_type": "stream",
     "text": [
      "Show first and last rows of Weather - after cleaning and conversion:\n"
     ]
    },
    {
     "data": {
      "text/html": [
       "<div>\n",
       "<style scoped>\n",
       "    .dataframe tbody tr th:only-of-type {\n",
       "        vertical-align: middle;\n",
       "    }\n",
       "\n",
       "    .dataframe tbody tr th {\n",
       "        vertical-align: top;\n",
       "    }\n",
       "\n",
       "    .dataframe thead th {\n",
       "        text-align: right;\n",
       "    }\n",
       "</style>\n",
       "<table border=\"1\" class=\"dataframe\">\n",
       "  <thead>\n",
       "    <tr style=\"text-align: right;\">\n",
       "      <th></th>\n",
       "      <th>Unnamed: 0</th>\n",
       "      <th>Date</th>\n",
       "      <th>Max.Humidity</th>\n",
       "      <th>Mean.Humidity</th>\n",
       "      <th>Min.Humidity</th>\n",
       "      <th>PrecipitationIn</th>\n",
       "      <th>Events</th>\n",
       "      <th>city</th>\n",
       "      <th>season</th>\n",
       "      <th>WindDirectionDEG</th>\n",
       "      <th>...</th>\n",
       "      <th>Max.VisibilityKM</th>\n",
       "      <th>Mean.VisibilityKM</th>\n",
       "      <th>Max.Wind.SpeedKMH</th>\n",
       "      <th>Mean.Wind.SpeedKMH</th>\n",
       "      <th>Max.Gust.SpeedKMH</th>\n",
       "      <th>Max.Sea.Level.PressureHPA</th>\n",
       "      <th>Mean.Sea.Level.PressureHPA</th>\n",
       "      <th>Min.Sea.Level.PressureHPA</th>\n",
       "      <th>CloudCoverPERCENT</th>\n",
       "      <th>PrecipitationMM</th>\n",
       "    </tr>\n",
       "  </thead>\n",
       "  <tbody>\n",
       "    <tr>\n",
       "      <th>0</th>\n",
       "      <td>1</td>\n",
       "      <td>1948-07-01</td>\n",
       "      <td>93</td>\n",
       "      <td>65</td>\n",
       "      <td>46</td>\n",
       "      <td>0.00</td>\n",
       "      <td>b'Fog'</td>\n",
       "      <td>New York City (USA)</td>\n",
       "      <td>Summer</td>\n",
       "      <td>264</td>\n",
       "      <td>...</td>\n",
       "      <td>16.09344</td>\n",
       "      <td>11.265408</td>\n",
       "      <td>25.749504</td>\n",
       "      <td>12.874752</td>\n",
       "      <td>NaN</td>\n",
       "      <td>1018.287172</td>\n",
       "      <td>1016.255339</td>\n",
       "      <td>1015.239422</td>\n",
       "      <td>0.0</td>\n",
       "      <td>0.000</td>\n",
       "    </tr>\n",
       "    <tr>\n",
       "      <th>24559</th>\n",
       "      <td>24627</td>\n",
       "      <td>2015-12-31</td>\n",
       "      <td>93</td>\n",
       "      <td>71</td>\n",
       "      <td>49</td>\n",
       "      <td>0.06</td>\n",
       "      <td>b'Rain'</td>\n",
       "      <td>New York City (USA)</td>\n",
       "      <td>Winter</td>\n",
       "      <td>317</td>\n",
       "      <td>...</td>\n",
       "      <td>16.09344</td>\n",
       "      <td>16.093440</td>\n",
       "      <td>32.186880</td>\n",
       "      <td>19.312128</td>\n",
       "      <td>40.2336</td>\n",
       "      <td>1019.303089</td>\n",
       "      <td>1017.948533</td>\n",
       "      <td>1016.255339</td>\n",
       "      <td>87.5</td>\n",
       "      <td>1.524</td>\n",
       "    </tr>\n",
       "  </tbody>\n",
       "</table>\n",
       "<p>2 rows × 27 columns</p>\n",
       "</div>"
      ],
      "text/plain": [
       "       Unnamed: 0       Date  Max.Humidity  Mean.Humidity  Min.Humidity  \\\n",
       "0               1 1948-07-01            93             65            46   \n",
       "24559       24627 2015-12-31            93             71            49   \n",
       "\n",
       "       PrecipitationIn   Events                 city  season  \\\n",
       "0                 0.00   b'Fog'  New York City (USA)  Summer   \n",
       "24559             0.06  b'Rain'  New York City (USA)  Winter   \n",
       "\n",
       "       WindDirectionDEG  ...  Max.VisibilityKM  Mean.VisibilityKM  \\\n",
       "0                   264  ...          16.09344          11.265408   \n",
       "24559               317  ...          16.09344          16.093440   \n",
       "\n",
       "       Max.Wind.SpeedKMH  Mean.Wind.SpeedKMH  Max.Gust.SpeedKMH  \\\n",
       "0              25.749504           12.874752                NaN   \n",
       "24559          32.186880           19.312128            40.2336   \n",
       "\n",
       "       Max.Sea.Level.PressureHPA  Mean.Sea.Level.PressureHPA  \\\n",
       "0                    1018.287172                 1016.255339   \n",
       "24559                1019.303089                 1017.948533   \n",
       "\n",
       "       Min.Sea.Level.PressureHPA  CloudCoverPERCENT  PrecipitationMM  \n",
       "0                    1015.239422                0.0            0.000  \n",
       "24559                1016.255339               87.5            1.524  \n",
       "\n",
       "[2 rows x 27 columns]"
      ]
     },
     "execution_count": 352,
     "metadata": {},
     "output_type": "execute_result"
    }
   ],
   "source": [
    "print(f\"Show first and last rows of Weather - after cleaning and conversion:\")\n",
    "df_weather.iloc[[0, -1]]"
   ]
  },
  {
   "cell_type": "code",
   "execution_count": null,
   "metadata": {},
   "outputs": [],
   "source": []
  },
  {
   "cell_type": "markdown",
   "metadata": {},
   "source": [
    "# Joining the datasets"
   ]
  },
  {
   "cell_type": "code",
   "execution_count": 353,
   "metadata": {},
   "outputs": [
    {
     "data": {
      "text/html": [
       "<div>\n",
       "<style scoped>\n",
       "    .dataframe tbody tr th:only-of-type {\n",
       "        vertical-align: middle;\n",
       "    }\n",
       "\n",
       "    .dataframe tbody tr th {\n",
       "        vertical-align: top;\n",
       "    }\n",
       "\n",
       "    .dataframe thead th {\n",
       "        text-align: right;\n",
       "    }\n",
       "</style>\n",
       "<table border=\"1\" class=\"dataframe\">\n",
       "  <thead>\n",
       "    <tr style=\"text-align: right;\">\n",
       "      <th></th>\n",
       "      <th>uniqueid</th>\n",
       "      <th>tripduration</th>\n",
       "      <th>starttime</th>\n",
       "      <th>stoptime</th>\n",
       "      <th>start_station_id</th>\n",
       "      <th>start_station_name</th>\n",
       "      <th>start_station_latitude</th>\n",
       "      <th>start_station_longitude</th>\n",
       "      <th>end_station_id</th>\n",
       "      <th>end_station_name</th>\n",
       "      <th>...</th>\n",
       "      <th>Max.VisibilityKM</th>\n",
       "      <th>Mean.VisibilityKM</th>\n",
       "      <th>Max.Wind.SpeedKMH</th>\n",
       "      <th>Mean.Wind.SpeedKMH</th>\n",
       "      <th>Max.Gust.SpeedKMH</th>\n",
       "      <th>Max.Sea.Level.PressureHPA</th>\n",
       "      <th>Mean.Sea.Level.PressureHPA</th>\n",
       "      <th>Min.Sea.Level.PressureHPA</th>\n",
       "      <th>CloudCoverPERCENT</th>\n",
       "      <th>PrecipitationMM</th>\n",
       "    </tr>\n",
       "  </thead>\n",
       "  <tbody>\n",
       "    <tr>\n",
       "      <th>1</th>\n",
       "      <td>1043212</td>\n",
       "      <td>1542</td>\n",
       "      <td>2015-04-13 08:07:06</td>\n",
       "      <td>2015-04-13 08:32:48</td>\n",
       "      <td>545</td>\n",
       "      <td>E 23 St &amp; 1 Ave</td>\n",
       "      <td>40.736502</td>\n",
       "      <td>-73.978095</td>\n",
       "      <td>415</td>\n",
       "      <td>Pearl St &amp; Hanover Square</td>\n",
       "      <td>...</td>\n",
       "      <td>16.09344</td>\n",
       "      <td>16.09344</td>\n",
       "      <td>46.670976</td>\n",
       "      <td>22.530816</td>\n",
       "      <td>61.155072</td>\n",
       "      <td>1029.462256</td>\n",
       "      <td>1025.737228</td>\n",
       "      <td>1022.350839</td>\n",
       "      <td>62.5</td>\n",
       "      <td>0.0</td>\n",
       "    </tr>\n",
       "    <tr>\n",
       "      <th>99379</th>\n",
       "      <td>8672150</td>\n",
       "      <td>418</td>\n",
       "      <td>2015-11-14 15:39:48</td>\n",
       "      <td>2015-11-14 15:46:46</td>\n",
       "      <td>317</td>\n",
       "      <td>E 6 St &amp; Avenue B</td>\n",
       "      <td>40.724537</td>\n",
       "      <td>-73.981854</td>\n",
       "      <td>301</td>\n",
       "      <td>E 2 St &amp; Avenue B</td>\n",
       "      <td>...</td>\n",
       "      <td>16.09344</td>\n",
       "      <td>16.09344</td>\n",
       "      <td>46.670976</td>\n",
       "      <td>28.968192</td>\n",
       "      <td>61.155072</td>\n",
       "      <td>1025.398589</td>\n",
       "      <td>1018.287172</td>\n",
       "      <td>1011.175755</td>\n",
       "      <td>25.0</td>\n",
       "      <td>0.0</td>\n",
       "    </tr>\n",
       "  </tbody>\n",
       "</table>\n",
       "<p>2 rows × 43 columns</p>\n",
       "</div>"
      ],
      "text/plain": [
       "       uniqueid  tripduration           starttime            stoptime  \\\n",
       "1       1043212          1542 2015-04-13 08:07:06 2015-04-13 08:32:48   \n",
       "99379   8672150           418 2015-11-14 15:39:48 2015-11-14 15:46:46   \n",
       "\n",
       "      start_station_id start_station_name  start_station_latitude  \\\n",
       "1                  545    E 23 St & 1 Ave               40.736502   \n",
       "99379              317  E 6 St & Avenue B               40.724537   \n",
       "\n",
       "       start_station_longitude end_station_id           end_station_name  ...  \\\n",
       "1                   -73.978095            415  Pearl St & Hanover Square  ...   \n",
       "99379               -73.981854            301          E 2 St & Avenue B  ...   \n",
       "\n",
       "       Max.VisibilityKM  Mean.VisibilityKM  Max.Wind.SpeedKMH  \\\n",
       "1              16.09344           16.09344          46.670976   \n",
       "99379          16.09344           16.09344          46.670976   \n",
       "\n",
       "      Mean.Wind.SpeedKMH  Max.Gust.SpeedKMH Max.Sea.Level.PressureHPA  \\\n",
       "1              22.530816          61.155072               1029.462256   \n",
       "99379          28.968192          61.155072               1025.398589   \n",
       "\n",
       "      Mean.Sea.Level.PressureHPA  Min.Sea.Level.PressureHPA  \\\n",
       "1                    1025.737228                1022.350839   \n",
       "99379                1018.287172                1011.175755   \n",
       "\n",
       "       CloudCoverPERCENT  PrecipitationMM  \n",
       "1                   62.5              0.0  \n",
       "99379               25.0              0.0  \n",
       "\n",
       "[2 rows x 43 columns]"
      ]
     },
     "execution_count": 353,
     "metadata": {},
     "output_type": "execute_result"
    }
   ],
   "source": [
    "df_citibike_weather = pd.merge(df_citibike, df_weather, how=\"left\", on=\"Date\")\n",
    "df_citibike_weather.iloc[[1, -1]]"
   ]
  },
  {
   "cell_type": "code",
   "execution_count": 354,
   "metadata": {},
   "outputs": [
    {
     "name": "stdout",
     "output_type": "stream",
     "text": [
      "Rowcount of citibike dataset: 99380 elements\n",
      "Rowcount of citibike dataset: 24560 elements\n",
      "Rowcount of citibike dataset: 99380 elements\n",
      "\n",
      "Columncount of citibike dataset: 17 elements\n",
      "Columncount of citibike dataset: 27 elements\n",
      "Columncount of citibike dataset: 43 elements\n"
     ]
    }
   ],
   "source": [
    "print(f\"Rowcount of citibike dataset: {len(df_citibike)} elements\")\n",
    "print(f\"Rowcount of citibike dataset: {len(df_weather)} elements\")\n",
    "print(f\"Rowcount of citibike dataset: {len(df_citibike_weather)} elements\\n\")\n",
    "\n",
    "print(f\"Columncount of citibike dataset: {len(df_citibike.columns)} elements\")\n",
    "print(f\"Columncount of citibike dataset: {len(df_weather.columns)} elements\")\n",
    "print(f\"Columncount of citibike dataset: {len(df_citibike_weather.columns)} elements\")"
   ]
  },
  {
   "cell_type": "code",
   "execution_count": 355,
   "metadata": {},
   "outputs": [],
   "source": [
    "# TODO: Check NaN or Null or whatever it is called values and check the general validity of the joined table"
   ]
  },
  {
   "cell_type": "markdown",
   "metadata": {},
   "source": [
    "Everything seems fine with the joined dataframe. The Rowcount matches (since we did a left join) and the Columncount matches as well (17 + 27 = 44. Subtract one because of the duplicate Date column -> 43)"
   ]
  }
 ],
 "metadata": {
  "kernelspec": {
   "display_name": "Python 3 (ipykernel)",
   "language": "python",
   "name": "python3"
  },
  "language_info": {
   "codemirror_mode": {
    "name": "ipython",
    "version": 3
   },
   "file_extension": ".py",
   "mimetype": "text/x-python",
   "name": "python",
   "nbconvert_exporter": "python",
   "pygments_lexer": "ipython3",
   "version": "3.10.4"
  },
  "vscode": {
   "interpreter": {
    "hash": "53a3388f63f25bac5fed2978889bac1598fee98d83bcc80d76860462d9700892"
   }
  }
 },
 "nbformat": 4,
 "nbformat_minor": 4
}
