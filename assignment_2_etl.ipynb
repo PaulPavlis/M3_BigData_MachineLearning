{
 "cells": [
  {
   "cell_type": "markdown",
   "metadata": {},
   "source": [
    "# Assignment 1"
   ]
  },
  {
   "cell_type": "markdown",
   "metadata": {},
   "source": [
    "### Needed imports"
   ]
  },
  {
   "cell_type": "code",
   "execution_count": 1,
   "metadata": {},
   "outputs": [],
   "source": [
    "import pandas as pd\n",
    "import os\n",
    "import datetime\n",
    "import re # regex support\n",
    "import matplotlib.pyplot as plt"
   ]
  },
  {
   "cell_type": "markdown",
   "metadata": {},
   "source": [
    "### Data gathering"
   ]
  },
  {
   "cell_type": "code",
   "execution_count": 2,
   "metadata": {},
   "outputs": [],
   "source": [
    "data_pathname = os.path.join(os.getcwd(), \"data\")\n",
    "filename_citibike = \"2015-citibike_tripdata_combined.csv\"\n",
    "filename_citibike_sample = \"2015-citibike_tripdata_combined_sample.csv\"\n",
    "filename_weather = \"weather_data_nyc.csv\"\n",
    "\n",
    "use_sample_data = True # Change this flag if you want to use the full data set (~1,7gb). Warning: This will change the runtime significantly"
   ]
  },
  {
   "cell_type": "code",
   "execution_count": 3,
   "metadata": {},
   "outputs": [],
   "source": [
    "df_citibike = pd.DataFrame()\n",
    "if use_sample_data:\n",
    "    df_citibike = pd.read_csv(os.path.join(data_pathname, filename_citibike_sample))\n",
    "else:\n",
    "    df_citibike = pd.read_csv(os.path.join(data_pathname, filename_citibike))\n",
    "\n",
    "df_weather = pd.read_csv(os.path.join(data_pathname, filename_weather))\n"
   ]
  },
  {
   "cell_type": "markdown",
   "metadata": {},
   "source": [
    "### ETL Citibike dataset"
   ]
  },
  {
   "cell_type": "code",
   "execution_count": 7,
   "metadata": {},
   "outputs": [
    {
     "name": "stdout",
     "output_type": "stream",
     "text": [
      "Citibike DataFrame data types per column (auto import):\n",
      "Unnamed: 0                   int64\n",
      "tripduration                 int64\n",
      "starttime                   object\n",
      "stoptime                    object\n",
      "start station id             int64\n",
      "start station name          object\n",
      "start station latitude     float64\n",
      "start station longitude    float64\n",
      "end station id               int64\n",
      "end station name            object\n",
      "end station latitude       float64\n",
      "end station longitude      float64\n",
      "bikeid                       int64\n",
      "usertype                    object\n",
      "birth year                 float64\n",
      "gender                       int64\n",
      "dtype: object\n"
     ]
    }
   ],
   "source": [
    "print(\"Citibike DataFrame data types per column (auto import):\")\n",
    "print(f\"{df_citibike.dtypes}\")"
   ]
  },
  {
   "cell_type": "code",
   "execution_count": null,
   "metadata": {},
   "outputs": [],
   "source": [
    "print(\"Convert column Date from object to datetime\")\n",
    "df_weather['Date'] = pd.to_datetime(df_weather['Date'], format='%Y-%m-%d')"
   ]
  },
  {
   "cell_type": "markdown",
   "metadata": {},
   "source": [
    "Gerne auch Sachen von assignment 1 hier reinkopieren, falls es notwendig ist. Hab mal alles entfernt was nicht strikt ETL ist."
   ]
  },
  {
   "cell_type": "markdown",
   "metadata": {},
   "source": [
    "### ETL Weather dataset"
   ]
  },
  {
   "cell_type": "markdown",
   "metadata": {},
   "source": [
    "Gerne auch Sachen von assignment 1 hier reinkopieren, falls es notwendig ist. Hab mal alles entfernt was nicht strikt ETL ist."
   ]
  },
  {
   "cell_type": "code",
   "execution_count": 15,
   "metadata": {},
   "outputs": [
    {
     "name": "stdout",
     "output_type": "stream",
     "text": [
      "Weather DataFrame data types per column (auto import):\n",
      "Unnamed: 0                     int64\n",
      "Date                          object\n",
      "Max.TemperatureF               int64\n",
      "Mean.TemperatureF            float64\n",
      "Min.TemperatureF               int64\n",
      "Max.Dew.PointF                 int64\n",
      "MeanDew.PointF                 int64\n",
      "Min.DewpointF                  int64\n",
      "Max.Humidity                   int64\n",
      "Mean.Humidity                  int64\n",
      "Min.Humidity                   int64\n",
      "Max.Sea.Level.PressureIn     float64\n",
      "Mean.Sea.Level.PressureIn    float64\n",
      "Min.Sea.Level.PressureIn     float64\n",
      "Max.VisibilityMiles          float64\n",
      "Mean.VisibilityMiles         float64\n",
      "Min.VisibilityMiles          float64\n",
      "Max.Wind.SpeedMPH              int64\n",
      "Mean.Wind.SpeedMPH             int64\n",
      "Max.Gust.SpeedMPH            float64\n",
      "PrecipitationIn               object\n",
      "CloudCover                   float64\n",
      "Events                        object\n",
      "WindDirDegrees.br...          object\n",
      "city                          object\n",
      "season                        object\n",
      "dtype: object\n"
     ]
    }
   ],
   "source": [
    "print(\"Weather DataFrame data types per column (auto import):\")\n",
    "print(f\"{df_weather.dtypes}\")"
   ]
  },
  {
   "cell_type": "code",
   "execution_count": 16,
   "metadata": {},
   "outputs": [
    {
     "name": "stdout",
     "output_type": "stream",
     "text": [
      "Convert column Date from object to datetime\n"
     ]
    }
   ],
   "source": [
    "print(\"Convert column Date from object to datetime\")\n",
    "df_weather['Date'] = pd.to_datetime(df_weather['Date'], format='%Y-%m-%d')"
   ]
  },
  {
   "cell_type": "code",
   "execution_count": 17,
   "metadata": {},
   "outputs": [
    {
     "data": {
      "text/plain": [
       "0       1948-07-01\n",
       "24559   2015-12-31\n",
       "Name: Date, dtype: datetime64[ns]"
      ]
     },
     "execution_count": 17,
     "metadata": {},
     "output_type": "execute_result"
    }
   ],
   "source": [
    "df_weather[\"Date\"].iloc[[0, -1]]"
   ]
  },
  {
   "cell_type": "code",
   "execution_count": 18,
   "metadata": {},
   "outputs": [
    {
     "name": "stdout",
     "output_type": "stream",
     "text": [
      "Convert column PrecipitationIn from object to float\n"
     ]
    }
   ],
   "source": [
    "print(\"Convert column PrecipitationIn from object to float\")\n",
    "df_weather['PrecipitationIn'] = pd.to_numeric(df_weather['PrecipitationIn'], errors='coerce')"
   ]
  },
  {
   "cell_type": "code",
   "execution_count": 19,
   "metadata": {},
   "outputs": [
    {
     "name": "stdout",
     "output_type": "stream",
     "text": [
      "Convert column Events from object to string\n"
     ]
    },
    {
     "data": {
      "text/plain": [
       "0         b'Fog'\n",
       "24559    b'Rain'\n",
       "Name: Events, dtype: bytes208"
      ]
     },
     "execution_count": 19,
     "metadata": {},
     "output_type": "execute_result"
    }
   ],
   "source": [
    "print(\"Convert column Events from object to string\")\n",
    "df_weather['Events'] = df_weather['Events'].astype('|S') \n",
    "df_weather[\"Events\"].iloc[[0, -1]]"
   ]
  },
  {
   "cell_type": "code",
   "execution_count": 20,
   "metadata": {},
   "outputs": [
    {
     "name": "stdout",
     "output_type": "stream",
     "text": [
      "Convert column WindDirDegrees.br... from object to integer and clean the data\n"
     ]
    },
    {
     "data": {
      "text/plain": [
       "0        264\n",
       "24559    317\n",
       "Name: WindDirectionDEG, dtype: int32"
      ]
     },
     "execution_count": 20,
     "metadata": {},
     "output_type": "execute_result"
    }
   ],
   "source": [
    "print(\"Convert column WindDirDegrees.br... from object to integer and clean the data\")\n",
    "\n",
    "df_weather['WindDirectionDEG'] = df_weather['WindDirDegrees.br...'].str.removesuffix(\"<br />\")\n",
    "df_weather['WindDirectionDEG'] = df_weather['WindDirectionDEG'].astype('int')\n",
    "df_weather[\"WindDirectionDEG\"].iloc[[0, -1]]"
   ]
  },
  {
   "cell_type": "code",
   "execution_count": 21,
   "metadata": {},
   "outputs": [
    {
     "name": "stdout",
     "output_type": "stream",
     "text": [
      "Converting Fahrenheit to Celsius\n",
      "Converting Miles to Kilometer\n",
      "Converting inHg to hPa\n",
      "Converting CloudCover from eighths to percent\n",
      "Converting Inch to Millimeter\n"
     ]
    }
   ],
   "source": [
    "print(\"Converting Fahrenheit to Celsius\")\n",
    "def fahrenheit_to_celsius(fahrenheit):\n",
    "    celsius = (fahrenheit - 32) * 5 / 9\n",
    "    return celsius\n",
    "\n",
    "df_weather[\"Max.TemperatureC\"] = fahrenheit_to_celsius(df_weather[\"Max.TemperatureF\"])\n",
    "df_weather[\"Mean.TemperatureC\"] = fahrenheit_to_celsius(df_weather[\"Mean.TemperatureF\"])\n",
    "df_weather[\"Min.TemperatureC\"] = fahrenheit_to_celsius(df_weather[\"Min.TemperatureF\"])\n",
    "df_weather[\"Max.DewpointC\"] = fahrenheit_to_celsius(df_weather[\"Max.Dew.PointF\"])\n",
    "df_weather[\"Mean.DewpointC\"] = fahrenheit_to_celsius(df_weather[\"MeanDew.PointF\"])\n",
    "df_weather[\"Min.DewpointC\"] = fahrenheit_to_celsius(df_weather[\"Min.DewpointF\"])\n",
    "\n",
    "#df_weather.rename(columns={\"Max.TemperatureF\": \"Max.Temperature\", \"Mean.TemperatureF\": \"Mean.Temperature\"})\n",
    "\n",
    "print(\"Converting Miles to Kilometer\")\n",
    "def miles_to_km(miles):\n",
    "    km = miles * 1.609344\n",
    "    return km\n",
    "df_weather[\"Min.VisibilityKM\"] = miles_to_km(df_weather[\"Min.VisibilityMiles\"])\n",
    "df_weather[\"Max.VisibilityKM\"] = miles_to_km(df_weather[\"Max.VisibilityMiles\"])\n",
    "df_weather[\"Mean.VisibilityKM\"] = miles_to_km(df_weather[\"Mean.VisibilityMiles\"])\n",
    "df_weather[\"Max.Wind.SpeedKMH\"] = miles_to_km(df_weather[\"Max.Wind.SpeedMPH\"])\n",
    "df_weather[\"Mean.Wind.SpeedKMH\"] = miles_to_km(df_weather[\"Mean.Wind.SpeedMPH\"])\n",
    "df_weather[\"Max.Gust.SpeedKMH\"] = miles_to_km(df_weather[\"Max.Gust.SpeedMPH\"])\n",
    "\n",
    "print(\"Converting inHg to hPa\")\n",
    "def inhg_to_hpa(inhg):\n",
    "    hpa = inhg * 33.86389\n",
    "    return hpa\n",
    "\n",
    "df_weather[\"Max.Sea.Level.PressureHPA\"] = inhg_to_hpa(df_weather[\"Max.Sea.Level.PressureIn\"])\n",
    "df_weather[\"Mean.Sea.Level.PressureHPA\"] = inhg_to_hpa(df_weather[\"Mean.Sea.Level.PressureIn\"])\n",
    "df_weather[\"Min.Sea.Level.PressureHPA\"] = inhg_to_hpa(df_weather[\"Min.Sea.Level.PressureIn\"])\n",
    "\n",
    "print(\"Converting CloudCover from eighths to percent\")\n",
    "def eighths_to_percent(eighths):\n",
    "    percent = eighths / 8 * 100\n",
    "    return percent\n",
    "\n",
    "df_weather[\"CloudCoverPERCENT\"] = eighths_to_percent(df_weather[\"CloudCover\"])\n",
    "\n",
    "print(\"Converting Inch to Millimeter\")\n",
    "def inch_to_mm(inch):\n",
    "    mm = inch * 25.4\n",
    "    return mm\n",
    "\n",
    "df_weather[\"PrecipitationMM\"] = inch_to_mm(df_weather[\"PrecipitationIn\"])\n",
    "\n",
    "\n"
   ]
  },
  {
   "cell_type": "code",
   "execution_count": 22,
   "metadata": {},
   "outputs": [],
   "source": [
    "df_weather.drop(['Max.TemperatureF', 'Mean.TemperatureF', 'Min.TemperatureF', 'Max.Dew.PointF', 'MeanDew.PointF', 'Min.DewpointF', 'Min.VisibilityMiles', 'Max.VisibilityMiles', 'Mean.VisibilityMiles', 'Max.Wind.SpeedMPH', 'Mean.Wind.SpeedMPH', 'Max.Gust.SpeedMPH', 'Max.Sea.Level.PressureIn', 'Mean.Sea.Level.PressureIn', 'Min.Sea.Level.PressureIn', 'CloudCover', 'WindDirDegrees.br...'], axis=1, inplace=True)"
   ]
  },
  {
   "cell_type": "code",
   "execution_count": 23,
   "metadata": {},
   "outputs": [
    {
     "name": "stdout",
     "output_type": "stream",
     "text": [
      "Checking for categorial values in the columns\n",
      "Column Unnamed: 0 has 24560 distinct values\n",
      "Column Date has 24560 distinct values\n",
      "Column Max.Humidity has 68 distinct values\n",
      "Column Mean.Humidity has 81 distinct values\n",
      "Column Min.Humidity has 91 distinct values\n",
      "Column PrecipitationIn has 364 distinct values\n",
      "Column Events has 17 distinct values\n",
      "Column city has 1 distinct values\n",
      "Column season has 4 distinct values\n",
      "Column WindDirectionDEG has 361 distinct values\n",
      "Column Max.TemperatureC has 95 distinct values\n",
      "Column Mean.TemperatureC has 87 distinct values\n",
      "Column Min.TemperatureC has 82 distinct values\n",
      "Column Max.DewpointC has 90 distinct values\n",
      "Column Mean.DewpointC has 93 distinct values\n",
      "Column Min.DewpointC has 99 distinct values\n",
      "Column Min.VisibilityKM has 13 distinct values\n",
      "Column Max.VisibilityKM has 13 distinct values\n",
      "Column Mean.VisibilityKM has 21 distinct values\n",
      "Column Max.Wind.SpeedKMH has 54 distinct values\n",
      "Column Mean.Wind.SpeedKMH has 38 distinct values\n",
      "Column Max.Gust.SpeedKMH has 83 distinct values\n",
      "Column Max.Sea.Level.PressureHPA has 164 distinct values\n",
      "Column Mean.Sea.Level.PressureHPA has 177 distinct values\n",
      "Column Min.Sea.Level.PressureHPA has 197 distinct values\n",
      "Column CloudCoverPERCENT has 9 distinct values\n",
      "Column PrecipitationMM has 364 distinct values\n"
     ]
    }
   ],
   "source": [
    "print(\"Checking for categorial values in the columns\")\n",
    "for column in df_weather.columns:\n",
    "    print(f\"Column {column} has {df_weather[column].value_counts().count()} distinct values\")"
   ]
  },
  {
   "cell_type": "code",
   "execution_count": 24,
   "metadata": {},
   "outputs": [
    {
     "data": {
      "text/plain": [
       "4"
      ]
     },
     "execution_count": 24,
     "metadata": {},
     "output_type": "execute_result"
    }
   ],
   "source": [
    "df_weather['season'].value_counts().count()"
   ]
  },
  {
   "cell_type": "code",
   "execution_count": 25,
   "metadata": {},
   "outputs": [
    {
     "data": {
      "text/plain": [
       "Summer    6364\n",
       "Spring    6178\n",
       "Autumn    6052\n",
       "Winter    5966\n",
       "Name: season, dtype: int64"
      ]
     },
     "execution_count": 25,
     "metadata": {},
     "output_type": "execute_result"
    }
   ],
   "source": [
    "df_weather['season'].value_counts()"
   ]
  },
  {
   "cell_type": "code",
   "execution_count": 26,
   "metadata": {},
   "outputs": [],
   "source": [
    "df_weather['season'] = df_weather['season'].astype('category')"
   ]
  },
  {
   "cell_type": "code",
   "execution_count": 27,
   "metadata": {},
   "outputs": [
    {
     "data": {
      "text/plain": [
       "17"
      ]
     },
     "execution_count": 27,
     "metadata": {},
     "output_type": "execute_result"
    }
   ],
   "source": [
    "df_weather['Events'].value_counts().count()"
   ]
  },
  {
   "cell_type": "code",
   "execution_count": 28,
   "metadata": {},
   "outputs": [
    {
     "data": {
      "text/plain": [
       "b'nan'                           12839\n",
       "b'Rain'                           3514\n",
       "b'Fog-Rain'                       3276\n",
       "b'Fog'                            1937\n",
       "b'Snow'                            694\n",
       "b'Fog-Rain-Thunderstorm'           668\n",
       "b'Rain-Thunderstorm'               648\n",
       "b'Fog-Rain-Snow'                   378\n",
       "b'Rain-Snow'                       288\n",
       "b'Fog-Snow'                        274\n",
       "b'Thunderstorm'                     19\n",
       "b'Fog-Rain-Snow-Thunderstorm'       11\n",
       "b'Fog-Thunderstorm'                  8\n",
       "b'Rain-Snow-Thunderstorm'            3\n",
       "b'Fog-Snow-Thunderstorm'             1\n",
       "b'Fog-Rain-Hail-Thunderstorm'        1\n",
       "b'Tornado'                           1\n",
       "Name: Events, dtype: int64"
      ]
     },
     "execution_count": 28,
     "metadata": {},
     "output_type": "execute_result"
    }
   ],
   "source": [
    "df_weather['Events'].value_counts()"
   ]
  },
  {
   "cell_type": "code",
   "execution_count": 29,
   "metadata": {},
   "outputs": [
    {
     "data": {
      "text/plain": [
       "1"
      ]
     },
     "execution_count": 29,
     "metadata": {},
     "output_type": "execute_result"
    }
   ],
   "source": [
    "df_weather['city'].value_counts().count()"
   ]
  },
  {
   "cell_type": "code",
   "execution_count": 30,
   "metadata": {},
   "outputs": [
    {
     "data": {
      "text/plain": [
       "New York City (USA)    24560\n",
       "Name: city, dtype: int64"
      ]
     },
     "execution_count": 30,
     "metadata": {},
     "output_type": "execute_result"
    }
   ],
   "source": [
    "df_weather['city'].value_counts()"
   ]
  },
  {
   "cell_type": "code",
   "execution_count": 31,
   "metadata": {},
   "outputs": [],
   "source": [
    "df_weather['city'] = df_weather['city'].astype('category')"
   ]
  },
  {
   "cell_type": "code",
   "execution_count": 32,
   "metadata": {},
   "outputs": [
    {
     "data": {
      "text/plain": [
       "0.0      6738\n",
       "100.0    2200\n",
       "75.0     2195\n",
       "87.5     2157\n",
       "62.5     2132\n",
       "50.0     1987\n",
       "37.5     1755\n",
       "25.0     1498\n",
       "12.5     1117\n",
       "Name: CloudCoverPERCENT, dtype: int64"
      ]
     },
     "execution_count": 32,
     "metadata": {},
     "output_type": "execute_result"
    }
   ],
   "source": [
    "df_weather['CloudCoverPERCENT'].value_counts()"
   ]
  },
  {
   "cell_type": "code",
   "execution_count": 33,
   "metadata": {},
   "outputs": [
    {
     "name": "stdout",
     "output_type": "stream",
     "text": [
      "Weather data types after cleaning and conversion:\n",
      "Unnamed: 0                             int64\n",
      "Date                          datetime64[ns]\n",
      "Max.Humidity                           int64\n",
      "Mean.Humidity                          int64\n",
      "Min.Humidity                           int64\n",
      "PrecipitationIn                      float64\n",
      "Events                                  |S26\n",
      "city                                category\n",
      "season                              category\n",
      "WindDirectionDEG                       int32\n",
      "Max.TemperatureC                     float64\n",
      "Mean.TemperatureC                    float64\n",
      "Min.TemperatureC                     float64\n",
      "Max.DewpointC                        float64\n",
      "Mean.DewpointC                       float64\n",
      "Min.DewpointC                        float64\n",
      "Min.VisibilityKM                     float64\n",
      "Max.VisibilityKM                     float64\n",
      "Mean.VisibilityKM                    float64\n",
      "Max.Wind.SpeedKMH                    float64\n",
      "Mean.Wind.SpeedKMH                   float64\n",
      "Max.Gust.SpeedKMH                    float64\n",
      "Max.Sea.Level.PressureHPA            float64\n",
      "Mean.Sea.Level.PressureHPA           float64\n",
      "Min.Sea.Level.PressureHPA            float64\n",
      "CloudCoverPERCENT                    float64\n",
      "PrecipitationMM                      float64\n",
      "dtype: object\n"
     ]
    }
   ],
   "source": [
    "print(\"Weather data types after cleaning and conversion:\")\n",
    "print(f\"{df_weather.dtypes}\")"
   ]
  },
  {
   "cell_type": "code",
   "execution_count": 34,
   "metadata": {},
   "outputs": [
    {
     "name": "stdout",
     "output_type": "stream",
     "text": [
      "Check for missing values in Weaterh:\n"
     ]
    },
    {
     "data": {
      "text/plain": [
       "Unnamed: 0                        0\n",
       "Date                              0\n",
       "Max.Humidity                      0\n",
       "Mean.Humidity                     0\n",
       "Min.Humidity                      0\n",
       "PrecipitationIn                 525\n",
       "Events                            0\n",
       "city                              0\n",
       "season                            0\n",
       "WindDirectionDEG                  0\n",
       "Max.TemperatureC                  0\n",
       "Mean.TemperatureC                 2\n",
       "Min.TemperatureC                  0\n",
       "Max.DewpointC                     0\n",
       "Mean.DewpointC                    0\n",
       "Min.DewpointC                     0\n",
       "Min.VisibilityKM                 15\n",
       "Max.VisibilityKM                 15\n",
       "Mean.VisibilityKM                15\n",
       "Max.Wind.SpeedKMH                 0\n",
       "Mean.Wind.SpeedKMH                0\n",
       "Max.Gust.SpeedKMH             15538\n",
       "Max.Sea.Level.PressureHPA         0\n",
       "Mean.Sea.Level.PressureHPA        0\n",
       "Min.Sea.Level.PressureHPA         0\n",
       "CloudCoverPERCENT              2781\n",
       "PrecipitationMM                 525\n",
       "dtype: int64"
      ]
     },
     "execution_count": 34,
     "metadata": {},
     "output_type": "execute_result"
    }
   ],
   "source": [
    "print(\"Check for missing values in Weaterh:\")\n",
    "df_weather.isna().sum()"
   ]
  },
  {
   "cell_type": "code",
   "execution_count": 35,
   "metadata": {},
   "outputs": [
    {
     "name": "stdout",
     "output_type": "stream",
     "text": [
      "Show first and last rows of Weather - after cleaning and conversion:\n"
     ]
    },
    {
     "data": {
      "text/html": [
       "<div>\n",
       "<style scoped>\n",
       "    .dataframe tbody tr th:only-of-type {\n",
       "        vertical-align: middle;\n",
       "    }\n",
       "\n",
       "    .dataframe tbody tr th {\n",
       "        vertical-align: top;\n",
       "    }\n",
       "\n",
       "    .dataframe thead th {\n",
       "        text-align: right;\n",
       "    }\n",
       "</style>\n",
       "<table border=\"1\" class=\"dataframe\">\n",
       "  <thead>\n",
       "    <tr style=\"text-align: right;\">\n",
       "      <th></th>\n",
       "      <th>Unnamed: 0</th>\n",
       "      <th>Date</th>\n",
       "      <th>Max.Humidity</th>\n",
       "      <th>Mean.Humidity</th>\n",
       "      <th>Min.Humidity</th>\n",
       "      <th>PrecipitationIn</th>\n",
       "      <th>Events</th>\n",
       "      <th>city</th>\n",
       "      <th>season</th>\n",
       "      <th>WindDirectionDEG</th>\n",
       "      <th>...</th>\n",
       "      <th>Max.VisibilityKM</th>\n",
       "      <th>Mean.VisibilityKM</th>\n",
       "      <th>Max.Wind.SpeedKMH</th>\n",
       "      <th>Mean.Wind.SpeedKMH</th>\n",
       "      <th>Max.Gust.SpeedKMH</th>\n",
       "      <th>Max.Sea.Level.PressureHPA</th>\n",
       "      <th>Mean.Sea.Level.PressureHPA</th>\n",
       "      <th>Min.Sea.Level.PressureHPA</th>\n",
       "      <th>CloudCoverPERCENT</th>\n",
       "      <th>PrecipitationMM</th>\n",
       "    </tr>\n",
       "  </thead>\n",
       "  <tbody>\n",
       "    <tr>\n",
       "      <th>0</th>\n",
       "      <td>1</td>\n",
       "      <td>1948-07-01</td>\n",
       "      <td>93</td>\n",
       "      <td>65</td>\n",
       "      <td>46</td>\n",
       "      <td>0.00</td>\n",
       "      <td>b'Fog'</td>\n",
       "      <td>New York City (USA)</td>\n",
       "      <td>Summer</td>\n",
       "      <td>264</td>\n",
       "      <td>...</td>\n",
       "      <td>16.09344</td>\n",
       "      <td>11.265408</td>\n",
       "      <td>25.749504</td>\n",
       "      <td>12.874752</td>\n",
       "      <td>NaN</td>\n",
       "      <td>1018.287172</td>\n",
       "      <td>1016.255339</td>\n",
       "      <td>1015.239422</td>\n",
       "      <td>0.0</td>\n",
       "      <td>0.000</td>\n",
       "    </tr>\n",
       "    <tr>\n",
       "      <th>24559</th>\n",
       "      <td>24627</td>\n",
       "      <td>2015-12-31</td>\n",
       "      <td>93</td>\n",
       "      <td>71</td>\n",
       "      <td>49</td>\n",
       "      <td>0.06</td>\n",
       "      <td>b'Rain'</td>\n",
       "      <td>New York City (USA)</td>\n",
       "      <td>Winter</td>\n",
       "      <td>317</td>\n",
       "      <td>...</td>\n",
       "      <td>16.09344</td>\n",
       "      <td>16.093440</td>\n",
       "      <td>32.186880</td>\n",
       "      <td>19.312128</td>\n",
       "      <td>40.2336</td>\n",
       "      <td>1019.303089</td>\n",
       "      <td>1017.948533</td>\n",
       "      <td>1016.255339</td>\n",
       "      <td>87.5</td>\n",
       "      <td>1.524</td>\n",
       "    </tr>\n",
       "  </tbody>\n",
       "</table>\n",
       "<p>2 rows × 27 columns</p>\n",
       "</div>"
      ],
      "text/plain": [
       "       Unnamed: 0       Date  Max.Humidity  Mean.Humidity  Min.Humidity  \\\n",
       "0               1 1948-07-01            93             65            46   \n",
       "24559       24627 2015-12-31            93             71            49   \n",
       "\n",
       "       PrecipitationIn   Events                 city  season  \\\n",
       "0                 0.00   b'Fog'  New York City (USA)  Summer   \n",
       "24559             0.06  b'Rain'  New York City (USA)  Winter   \n",
       "\n",
       "       WindDirectionDEG  ...  Max.VisibilityKM  Mean.VisibilityKM  \\\n",
       "0                   264  ...          16.09344          11.265408   \n",
       "24559               317  ...          16.09344          16.093440   \n",
       "\n",
       "       Max.Wind.SpeedKMH  Mean.Wind.SpeedKMH  Max.Gust.SpeedKMH  \\\n",
       "0              25.749504           12.874752                NaN   \n",
       "24559          32.186880           19.312128            40.2336   \n",
       "\n",
       "       Max.Sea.Level.PressureHPA  Mean.Sea.Level.PressureHPA  \\\n",
       "0                    1018.287172                 1016.255339   \n",
       "24559                1019.303089                 1017.948533   \n",
       "\n",
       "       Min.Sea.Level.PressureHPA  CloudCoverPERCENT  PrecipitationMM  \n",
       "0                    1015.239422                0.0            0.000  \n",
       "24559                1016.255339               87.5            1.524  \n",
       "\n",
       "[2 rows x 27 columns]"
      ]
     },
     "execution_count": 35,
     "metadata": {},
     "output_type": "execute_result"
    }
   ],
   "source": [
    "print(f\"Show first and last rows of Weather - after cleaning and conversion:\")\n",
    "df_weather.iloc[[0, -1]]"
   ]
  },
  {
   "cell_type": "code",
   "execution_count": 36,
   "metadata": {},
   "outputs": [
    {
     "name": "stdout",
     "output_type": "stream",
     "text": [
      "Citibike DataFrame length: 24560\n",
      "Show first and last rows of Citibike:\n"
     ]
    },
    {
     "data": {
      "text/html": [
       "<div>\n",
       "<style scoped>\n",
       "    .dataframe tbody tr th:only-of-type {\n",
       "        vertical-align: middle;\n",
       "    }\n",
       "\n",
       "    .dataframe tbody tr th {\n",
       "        vertical-align: top;\n",
       "    }\n",
       "\n",
       "    .dataframe thead th {\n",
       "        text-align: right;\n",
       "    }\n",
       "</style>\n",
       "<table border=\"1\" class=\"dataframe\">\n",
       "  <thead>\n",
       "    <tr style=\"text-align: right;\">\n",
       "      <th></th>\n",
       "      <th>Unnamed: 0</th>\n",
       "      <th>tripduration</th>\n",
       "      <th>starttime</th>\n",
       "      <th>stoptime</th>\n",
       "      <th>start station id</th>\n",
       "      <th>start station name</th>\n",
       "      <th>start station latitude</th>\n",
       "      <th>start station longitude</th>\n",
       "      <th>end station id</th>\n",
       "      <th>end station name</th>\n",
       "      <th>end station latitude</th>\n",
       "      <th>end station longitude</th>\n",
       "      <th>bikeid</th>\n",
       "      <th>usertype</th>\n",
       "      <th>birth year</th>\n",
       "      <th>gender</th>\n",
       "    </tr>\n",
       "  </thead>\n",
       "  <tbody>\n",
       "    <tr>\n",
       "      <th>1</th>\n",
       "      <td>1043212</td>\n",
       "      <td>1542</td>\n",
       "      <td>4/13/2015 08:07:06</td>\n",
       "      <td>4/13/2015 08:32:48</td>\n",
       "      <td>545</td>\n",
       "      <td>E 23 St &amp; 1 Ave</td>\n",
       "      <td>40.736502</td>\n",
       "      <td>-73.978095</td>\n",
       "      <td>415</td>\n",
       "      <td>Pearl St &amp; Hanover Square</td>\n",
       "      <td>40.704718</td>\n",
       "      <td>-74.009260</td>\n",
       "      <td>19785</td>\n",
       "      <td>Subscriber</td>\n",
       "      <td>1957.0</td>\n",
       "      <td>1</td>\n",
       "    </tr>\n",
       "    <tr>\n",
       "      <th>99379</th>\n",
       "      <td>8672150</td>\n",
       "      <td>418</td>\n",
       "      <td>11/14/2015 15:39:48</td>\n",
       "      <td>11/14/2015 15:46:46</td>\n",
       "      <td>317</td>\n",
       "      <td>E 6 St &amp; Avenue B</td>\n",
       "      <td>40.724537</td>\n",
       "      <td>-73.981854</td>\n",
       "      <td>301</td>\n",
       "      <td>E 2 St &amp; Avenue B</td>\n",
       "      <td>40.722174</td>\n",
       "      <td>-73.983688</td>\n",
       "      <td>19774</td>\n",
       "      <td>Subscriber</td>\n",
       "      <td>1961.0</td>\n",
       "      <td>1</td>\n",
       "    </tr>\n",
       "  </tbody>\n",
       "</table>\n",
       "</div>"
      ],
      "text/plain": [
       "       Unnamed: 0  tripduration            starttime             stoptime  \\\n",
       "1         1043212          1542   4/13/2015 08:07:06   4/13/2015 08:32:48   \n",
       "99379     8672150           418  11/14/2015 15:39:48  11/14/2015 15:46:46   \n",
       "\n",
       "       start station id start station name  start station latitude  \\\n",
       "1                   545    E 23 St & 1 Ave               40.736502   \n",
       "99379               317  E 6 St & Avenue B               40.724537   \n",
       "\n",
       "       start station longitude  end station id           end station name  \\\n",
       "1                   -73.978095             415  Pearl St & Hanover Square   \n",
       "99379               -73.981854             301          E 2 St & Avenue B   \n",
       "\n",
       "       end station latitude  end station longitude  bikeid    usertype  \\\n",
       "1                 40.704718             -74.009260   19785  Subscriber   \n",
       "99379             40.722174             -73.983688   19774  Subscriber   \n",
       "\n",
       "       birth year  gender  \n",
       "1          1957.0       1  \n",
       "99379      1961.0       1  "
      ]
     },
     "execution_count": 36,
     "metadata": {},
     "output_type": "execute_result"
    }
   ],
   "source": [
    "print(f\"Citibike DataFrame length: {len(df_weather)}\")\n",
    "print(f\"Show first and last rows of Citibike:\")\n",
    "df_citibike.iloc[[1, -1]]"
   ]
  },
  {
   "cell_type": "code",
   "execution_count": 37,
   "metadata": {},
   "outputs": [
    {
     "name": "stdout",
     "output_type": "stream",
     "text": [
      "Convert column Date from object to datetime\n"
     ]
    }
   ],
   "source": [
    "print(\"Convert column Date from object to datetime\")\n",
    "df_citibike['starttime'] = pd.to_datetime(df_citibike['starttime'], format=\"%m/%d/%Y %H:%M:%S\", errors=\"coerce\").fillna(pd.to_datetime(df_citibike['starttime'], format=\"%m/%d/%Y %H:%M\", errors=\"coerce\"))\n",
    "df_citibike['stoptime']  = pd.to_datetime(df_citibike['stoptime' ], format=\"%m/%d/%Y %H:%M:%S\", errors=\"coerce\").fillna(pd.to_datetime(df_citibike['stoptime' ], format=\"%m/%d/%Y %H:%M\", errors=\"coerce\"))\n"
   ]
  },
  {
   "cell_type": "code",
   "execution_count": 38,
   "metadata": {},
   "outputs": [
    {
     "name": "stdout",
     "output_type": "stream",
     "text": [
      "Check for missing values in Citibike:\n"
     ]
    },
    {
     "data": {
      "text/plain": [
       "Unnamed: 0                     0\n",
       "tripduration                   0\n",
       "starttime                      0\n",
       "stoptime                       0\n",
       "start station id               0\n",
       "start station name             0\n",
       "start station latitude         0\n",
       "start station longitude        0\n",
       "end station id                 0\n",
       "end station name               0\n",
       "end station latitude           0\n",
       "end station longitude          0\n",
       "bikeid                         0\n",
       "usertype                       0\n",
       "birth year                 13079\n",
       "gender                         0\n",
       "dtype: int64"
      ]
     },
     "execution_count": 38,
     "metadata": {},
     "output_type": "execute_result"
    }
   ],
   "source": [
    "print(\"Check for missing values in Citibike:\")\n",
    "df_citibike.isna().sum()"
   ]
  },
  {
   "cell_type": "code",
   "execution_count": 39,
   "metadata": {},
   "outputs": [
    {
     "name": "stdout",
     "output_type": "stream",
     "text": [
      "Checking for categorial values in the columns\n",
      "Column Unnamed: 0 has 99380 distinct values\n",
      "Column tripduration has 4294 distinct values\n",
      "Column starttime has 97028 distinct values\n",
      "Column stoptime has 97046 distinct values\n",
      "Column start station id has 485 distinct values\n",
      "Column start station name has 494 distinct values\n",
      "Column start station latitude has 507 distinct values\n",
      "Column start station longitude has 507 distinct values\n",
      "Column end station id has 488 distinct values\n",
      "Column end station name has 497 distinct values\n",
      "Column end station latitude has 510 distinct values\n",
      "Column end station longitude has 510 distinct values\n",
      "Column bikeid has 8348 distinct values\n",
      "Column usertype has 2 distinct values\n",
      "Column birth year has 77 distinct values\n",
      "Column gender has 3 distinct values\n"
     ]
    }
   ],
   "source": [
    "print(\"Checking for categorial values in the columns\")\n",
    "for column in df_citibike.columns:\n",
    "    print(f\"Column {column} has {df_citibike[column].value_counts().count()} distinct values\")"
   ]
  }
 ],
 "metadata": {
  "kernelspec": {
   "display_name": "Python 3 (ipykernel)",
   "language": "python",
   "name": "python3"
  },
  "language_info": {
   "codemirror_mode": {
    "name": "ipython",
    "version": 3
   },
   "file_extension": ".py",
   "mimetype": "text/x-python",
   "name": "python",
   "nbconvert_exporter": "python",
   "pygments_lexer": "ipython3",
   "version": "3.10.4"
  },
  "vscode": {
   "interpreter": {
    "hash": "53a3388f63f25bac5fed2978889bac1598fee98d83bcc80d76860462d9700892"
   }
  }
 },
 "nbformat": 4,
 "nbformat_minor": 4
}
