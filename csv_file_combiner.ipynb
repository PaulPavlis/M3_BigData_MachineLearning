{
 "cells": [
  {
   "cell_type": "code",
   "execution_count": 2,
   "metadata": {},
   "outputs": [],
   "source": [
    "import pandas as pd\n",
    "import os"
   ]
  },
  {
   "cell_type": "code",
   "execution_count": 17,
   "metadata": {},
   "outputs": [
    {
     "name": "stdout",
     "output_type": "stream",
     "text": [
      "DataFrame 201501-citibike-tripdata.csv has 285552 rows.\n",
      "DataFrame 201502-citibike-tripdata.csv has 196930 rows.\n",
      "DataFrame 201503-citibike-tripdata.csv has 341826 rows.\n",
      "DataFrame 201504-citibike-tripdata.csv has 652390 rows.\n",
      "DataFrame 201505-citibike-tripdata.csv has 961986 rows.\n",
      "DataFrame 201506-citibike-tripdata.csv has 941219 rows.\n",
      "DataFrame 201507-citibike-tripdata.csv has 1085676 rows.\n",
      "DataFrame 201508-citibike-tripdata.csv has 1179044 rows.\n",
      "DataFrame 201509-citibike-tripdata.csv has 1289699 rows.\n",
      "DataFrame 201510-citibike-tripdata.csv has 1212277 rows.\n",
      "DataFrame 201511-citibike-tripdata.csv has 987245 rows.\n",
      "DataFrame 201512-citibike-tripdata.csv has 804125 rows.\n",
      "Final DataFrame has 9937969 rows.\n"
     ]
    }
   ],
   "source": [
    "pathname = os.path.join(os.getcwd(), \"data\", \"citibike_individual_csv_files\")\n",
    "df_final = pd.DataFrame() #initialise\n",
    "\n",
    "for filename in os.listdir(pathname):\n",
    "    # print(filename)\n",
    "    df_temp = pd.read_csv(os.path.join(pathname, filename))\n",
    "    # print(df_temp)\n",
    "    print(f\"DataFrame {filename} has {len(df_temp)} rows.\")\n",
    "    \n",
    "    if df_final.empty:\n",
    "        df_final = df_temp\n",
    "    else:\n",
    "        df_final = df_final.append(df_temp, ignore_index=True)\n",
    "\n",
    "# print(df_final)\n",
    "print(f\"Final DataFrame has {len(df_final)} rows.\")"
   ]
  },
  {
   "cell_type": "code",
   "execution_count": 18,
   "metadata": {},
   "outputs": [],
   "source": [
    "df_final.to_csv(os.path.join(pathname, \"combined.csv\"))"
   ]
  },
  {
   "cell_type": "code",
   "execution_count": 19,
   "metadata": {},
   "outputs": [],
   "source": [
    "df_final_sample = df_final.sample(frac=0.01, random_state=42)"
   ]
  },
  {
   "cell_type": "code",
   "execution_count": 20,
   "metadata": {},
   "outputs": [],
   "source": [
    "df_final_sample.to_csv(os.path.join(pathname, \"combined_sample.csv\"))"
   ]
  },
  {
   "cell_type": "code",
   "execution_count": null,
   "metadata": {},
   "outputs": [],
   "source": []
  }
 ],
 "metadata": {
  "kernelspec": {
   "display_name": "Python 3",
   "language": "python",
   "name": "python3"
  },
  "language_info": {
   "codemirror_mode": {
    "name": "ipython",
    "version": 3
   },
   "file_extension": ".py",
   "mimetype": "text/x-python",
   "name": "python",
   "nbconvert_exporter": "python",
   "pygments_lexer": "ipython3",
   "version": "3.8.5"
  }
 },
 "nbformat": 4,
 "nbformat_minor": 4
}
