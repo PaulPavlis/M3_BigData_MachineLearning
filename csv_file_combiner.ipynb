{
 "cells": [
  {
   "cell_type": "code",
   "execution_count": 1,
   "metadata": {},
   "outputs": [],
   "source": [
    "import pandas as pd\n",
    "import os"
   ]
  },
  {
   "cell_type": "code",
   "execution_count": 2,
   "metadata": {},
   "outputs": [
    {
     "name": "stdout",
     "output_type": "stream",
     "text": [
      "DataFrame 201501-citibike-tripdata.csv has 285552 rows.\n",
      "DataFrame 201502-citibike-tripdata.csv has 196930 rows.\n"
     ]
    },
    {
     "name": "stderr",
     "output_type": "stream",
     "text": [
      "C:\\Users\\relentne\\AppData\\Local\\Temp\\ipykernel_16284\\208268909.py:13: FutureWarning: The frame.append method is deprecated and will be removed from pandas in a future version. Use pandas.concat instead.\n",
      "  df_final = df_final.append(df_temp, ignore_index=True)\n"
     ]
    },
    {
     "name": "stdout",
     "output_type": "stream",
     "text": [
      "DataFrame 201503-citibike-tripdata.csv has 341826 rows.\n"
     ]
    },
    {
     "name": "stderr",
     "output_type": "stream",
     "text": [
      "C:\\Users\\relentne\\AppData\\Local\\Temp\\ipykernel_16284\\208268909.py:13: FutureWarning: The frame.append method is deprecated and will be removed from pandas in a future version. Use pandas.concat instead.\n",
      "  df_final = df_final.append(df_temp, ignore_index=True)\n"
     ]
    },
    {
     "name": "stdout",
     "output_type": "stream",
     "text": [
      "DataFrame 201504-citibike-tripdata.csv has 652390 rows.\n"
     ]
    },
    {
     "name": "stderr",
     "output_type": "stream",
     "text": [
      "C:\\Users\\relentne\\AppData\\Local\\Temp\\ipykernel_16284\\208268909.py:13: FutureWarning: The frame.append method is deprecated and will be removed from pandas in a future version. Use pandas.concat instead.\n",
      "  df_final = df_final.append(df_temp, ignore_index=True)\n"
     ]
    },
    {
     "name": "stdout",
     "output_type": "stream",
     "text": [
      "DataFrame 201505-citibike-tripdata.csv has 961986 rows.\n"
     ]
    },
    {
     "name": "stderr",
     "output_type": "stream",
     "text": [
      "C:\\Users\\relentne\\AppData\\Local\\Temp\\ipykernel_16284\\208268909.py:13: FutureWarning: The frame.append method is deprecated and will be removed from pandas in a future version. Use pandas.concat instead.\n",
      "  df_final = df_final.append(df_temp, ignore_index=True)\n"
     ]
    },
    {
     "name": "stdout",
     "output_type": "stream",
     "text": [
      "DataFrame 201506-citibike-tripdata.csv has 941219 rows.\n"
     ]
    },
    {
     "name": "stderr",
     "output_type": "stream",
     "text": [
      "C:\\Users\\relentne\\AppData\\Local\\Temp\\ipykernel_16284\\208268909.py:13: FutureWarning: The frame.append method is deprecated and will be removed from pandas in a future version. Use pandas.concat instead.\n",
      "  df_final = df_final.append(df_temp, ignore_index=True)\n"
     ]
    },
    {
     "name": "stdout",
     "output_type": "stream",
     "text": [
      "DataFrame 201507-citibike-tripdata.csv has 1085676 rows.\n"
     ]
    },
    {
     "name": "stderr",
     "output_type": "stream",
     "text": [
      "C:\\Users\\relentne\\AppData\\Local\\Temp\\ipykernel_16284\\208268909.py:13: FutureWarning: The frame.append method is deprecated and will be removed from pandas in a future version. Use pandas.concat instead.\n",
      "  df_final = df_final.append(df_temp, ignore_index=True)\n"
     ]
    },
    {
     "name": "stdout",
     "output_type": "stream",
     "text": [
      "DataFrame 201508-citibike-tripdata.csv has 1179044 rows.\n"
     ]
    },
    {
     "name": "stderr",
     "output_type": "stream",
     "text": [
      "C:\\Users\\relentne\\AppData\\Local\\Temp\\ipykernel_16284\\208268909.py:13: FutureWarning: The frame.append method is deprecated and will be removed from pandas in a future version. Use pandas.concat instead.\n",
      "  df_final = df_final.append(df_temp, ignore_index=True)\n"
     ]
    },
    {
     "name": "stdout",
     "output_type": "stream",
     "text": [
      "DataFrame 201509-citibike-tripdata.csv has 1289699 rows.\n"
     ]
    },
    {
     "name": "stderr",
     "output_type": "stream",
     "text": [
      "C:\\Users\\relentne\\AppData\\Local\\Temp\\ipykernel_16284\\208268909.py:13: FutureWarning: The frame.append method is deprecated and will be removed from pandas in a future version. Use pandas.concat instead.\n",
      "  df_final = df_final.append(df_temp, ignore_index=True)\n"
     ]
    },
    {
     "name": "stdout",
     "output_type": "stream",
     "text": [
      "DataFrame 201510-citibike-tripdata.csv has 1212277 rows.\n"
     ]
    },
    {
     "name": "stderr",
     "output_type": "stream",
     "text": [
      "C:\\Users\\relentne\\AppData\\Local\\Temp\\ipykernel_16284\\208268909.py:13: FutureWarning: The frame.append method is deprecated and will be removed from pandas in a future version. Use pandas.concat instead.\n",
      "  df_final = df_final.append(df_temp, ignore_index=True)\n"
     ]
    },
    {
     "name": "stdout",
     "output_type": "stream",
     "text": [
      "DataFrame 201511-citibike-tripdata.csv has 987245 rows.\n"
     ]
    },
    {
     "name": "stderr",
     "output_type": "stream",
     "text": [
      "C:\\Users\\relentne\\AppData\\Local\\Temp\\ipykernel_16284\\208268909.py:13: FutureWarning: The frame.append method is deprecated and will be removed from pandas in a future version. Use pandas.concat instead.\n",
      "  df_final = df_final.append(df_temp, ignore_index=True)\n"
     ]
    },
    {
     "name": "stdout",
     "output_type": "stream",
     "text": [
      "DataFrame 201512-citibike-tripdata.csv has 804125 rows.\n"
     ]
    },
    {
     "name": "stderr",
     "output_type": "stream",
     "text": [
      "C:\\Users\\relentne\\AppData\\Local\\Temp\\ipykernel_16284\\208268909.py:13: FutureWarning: The frame.append method is deprecated and will be removed from pandas in a future version. Use pandas.concat instead.\n",
      "  df_final = df_final.append(df_temp, ignore_index=True)\n"
     ]
    },
    {
     "name": "stdout",
     "output_type": "stream",
     "text": [
      "Final DataFrame has 9937969 rows.\n"
     ]
    }
   ],
   "source": [
    "pathname = os.path.join(os.getcwd(), \"data\", \"citibike_individual_csv_files\")\n",
    "df_final = pd.DataFrame() #initialise\n",
    "\n",
    "for filename in os.listdir(pathname):\n",
    "    # print(filename)\n",
    "    df_temp = pd.read_csv(os.path.join(pathname, filename))\n",
    "    # print(df_temp)\n",
    "    print(f\"DataFrame {filename} has {len(df_temp)} rows.\")\n",
    "    \n",
    "    if df_final.empty:\n",
    "        df_final = df_temp\n",
    "    else:\n",
    "        df_final = df_final.append(df_temp, ignore_index=True)\n",
    "\n",
    "# print(df_final)\n",
    "print(f\"Final DataFrame has {len(df_final)} rows.\")"
   ]
  },
  {
   "cell_type": "code",
   "execution_count": 3,
   "metadata": {},
   "outputs": [],
   "source": [
    "df_final.to_csv(os.path.join(pathname, \"combined.csv\"))"
   ]
  },
  {
   "cell_type": "code",
   "execution_count": 4,
   "metadata": {},
   "outputs": [],
   "source": [
    "df_final_sample = df_final.sample(frac=0.01, random_state=4711)"
   ]
  },
  {
   "cell_type": "code",
   "execution_count": 5,
   "metadata": {},
   "outputs": [],
   "source": [
    "df_final_sample.to_csv(os.path.join(pathname, \"combined_sample.csv\"))"
   ]
  },
  {
   "cell_type": "code",
   "execution_count": null,
   "metadata": {},
   "outputs": [],
   "source": []
  }
 ],
 "metadata": {
  "kernelspec": {
   "display_name": "Python 3.9.12 ('base')",
   "language": "python",
   "name": "python3"
  },
  "language_info": {
   "codemirror_mode": {
    "name": "ipython",
    "version": 3
   },
   "file_extension": ".py",
   "mimetype": "text/x-python",
   "name": "python",
   "nbconvert_exporter": "python",
   "pygments_lexer": "ipython3",
   "version": "3.9.12"
  },
  "vscode": {
   "interpreter": {
    "hash": "85be537caea4a32f5ade72d717b47f30198ac61d5b221cc1a2146af1c837c7ad"
   }
  }
 },
 "nbformat": 4,
 "nbformat_minor": 4
}
